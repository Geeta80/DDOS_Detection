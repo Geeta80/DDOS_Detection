{
  "metadata": {
    "kernelspec": {
      "language": "python",
      "display_name": "Python 3",
      "name": "python3"
    },
    "language_info": {
      "name": "python",
      "version": "3.10.14",
      "mimetype": "text/x-python",
      "codemirror_mode": {
        "name": "ipython",
        "version": 3
      },
      "pygments_lexer": "ipython3",
      "nbconvert_exporter": "python",
      "file_extension": ".py"
    },
    "kaggle": {
      "accelerator": "none",
      "dataSources": [
        {
          "sourceId": 7529005,
          "sourceType": "datasetVersion",
          "datasetId": 4385238
        },
        {
          "sourceId": 7698714,
          "sourceType": "datasetVersion",
          "datasetId": 4487614
        }
      ],
      "dockerImageVersionId": 30786,
      "isInternetEnabled": false,
      "language": "python",
      "sourceType": "notebook",
      "isGpuEnabled": false
    },
    "colab": {
      "name": "multiclass-ovo_ovr-oner-cic-ddos2019-01",
      "provenance": [],
      "include_colab_link": true
    },
    "widgets": {
      "application/vnd.jupyter.widget-state+json": {
        "563407fc037646e1a3f29bf9c09137fe": {
          "model_module": "@jupyter-widgets/controls",
          "model_name": "VBoxModel",
          "model_module_version": "1.5.0",
          "state": {
            "_dom_classes": [],
            "_model_module": "@jupyter-widgets/controls",
            "_model_module_version": "1.5.0",
            "_model_name": "VBoxModel",
            "_view_count": null,
            "_view_module": "@jupyter-widgets/controls",
            "_view_module_version": "1.5.0",
            "_view_name": "VBoxView",
            "box_style": "",
            "children": [
              "IPY_MODEL_f087cc197661424fb4faff5d93c7f063"
            ],
            "layout": "IPY_MODEL_2cf775414f3445578ff404ad5005c217"
          }
        },
        "753fc84b016643628f9d08e39d1c6b0d": {
          "model_module": "@jupyter-widgets/controls",
          "model_name": "HTMLModel",
          "model_module_version": "1.5.0",
          "state": {
            "_dom_classes": [],
            "_model_module": "@jupyter-widgets/controls",
            "_model_module_version": "1.5.0",
            "_model_name": "HTMLModel",
            "_view_count": null,
            "_view_module": "@jupyter-widgets/controls",
            "_view_module_version": "1.5.0",
            "_view_name": "HTMLView",
            "description": "",
            "description_tooltip": null,
            "layout": "IPY_MODEL_e95adc7f8d554a48a85acc6ebf42de7d",
            "placeholder": "​",
            "style": "IPY_MODEL_20bfe0ec25dc4e378958ccf8a4fce119",
            "value": "<center> <img\nsrc=https://www.kaggle.com/static/images/site-logo.png\nalt='Kaggle'> <br> Create an API token from <a\nhref=\"https://www.kaggle.com/settings/account\" target=\"_blank\">your Kaggle\nsettings page</a> and paste it below along with your Kaggle username. <br> </center>"
          }
        },
        "a1c068de30854317841c4d74264cfafe": {
          "model_module": "@jupyter-widgets/controls",
          "model_name": "TextModel",
          "model_module_version": "1.5.0",
          "state": {
            "_dom_classes": [],
            "_model_module": "@jupyter-widgets/controls",
            "_model_module_version": "1.5.0",
            "_model_name": "TextModel",
            "_view_count": null,
            "_view_module": "@jupyter-widgets/controls",
            "_view_module_version": "1.5.0",
            "_view_name": "TextView",
            "continuous_update": true,
            "description": "Username:",
            "description_tooltip": null,
            "disabled": false,
            "layout": "IPY_MODEL_c2b09f6adb984bc4890fafcbdc746fe9",
            "placeholder": "​",
            "style": "IPY_MODEL_f8cef0c272d5439993f5e14fbed6389f",
            "value": "geetasingh19"
          }
        },
        "b230e8196c84434eb775969837a99280": {
          "model_module": "@jupyter-widgets/controls",
          "model_name": "PasswordModel",
          "model_module_version": "1.5.0",
          "state": {
            "_dom_classes": [],
            "_model_module": "@jupyter-widgets/controls",
            "_model_module_version": "1.5.0",
            "_model_name": "PasswordModel",
            "_view_count": null,
            "_view_module": "@jupyter-widgets/controls",
            "_view_module_version": "1.5.0",
            "_view_name": "PasswordView",
            "continuous_update": true,
            "description": "Token:",
            "description_tooltip": null,
            "disabled": false,
            "layout": "IPY_MODEL_60185320603f4481843395bde229c02a",
            "placeholder": "​",
            "style": "IPY_MODEL_87e1c2d045a644a4a62684ea24d371ec",
            "value": ""
          }
        },
        "4e3ea5e847cc4a10a204c21f7711afd6": {
          "model_module": "@jupyter-widgets/controls",
          "model_name": "ButtonModel",
          "model_module_version": "1.5.0",
          "state": {
            "_dom_classes": [],
            "_model_module": "@jupyter-widgets/controls",
            "_model_module_version": "1.5.0",
            "_model_name": "ButtonModel",
            "_view_count": null,
            "_view_module": "@jupyter-widgets/controls",
            "_view_module_version": "1.5.0",
            "_view_name": "ButtonView",
            "button_style": "",
            "description": "Login",
            "disabled": false,
            "icon": "",
            "layout": "IPY_MODEL_17166de1876f45dab200dddb539959bf",
            "style": "IPY_MODEL_45919fca494d420cbc61ac5ded664d8f",
            "tooltip": ""
          }
        },
        "7ecb9ef905cb4607897951fdd33a7219": {
          "model_module": "@jupyter-widgets/controls",
          "model_name": "HTMLModel",
          "model_module_version": "1.5.0",
          "state": {
            "_dom_classes": [],
            "_model_module": "@jupyter-widgets/controls",
            "_model_module_version": "1.5.0",
            "_model_name": "HTMLModel",
            "_view_count": null,
            "_view_module": "@jupyter-widgets/controls",
            "_view_module_version": "1.5.0",
            "_view_name": "HTMLView",
            "description": "",
            "description_tooltip": null,
            "layout": "IPY_MODEL_f3a3ecc2b95f416cb6893c0f0d5c5175",
            "placeholder": "​",
            "style": "IPY_MODEL_c998fd4c512640879174346dee0c6b2f",
            "value": "\n<b>Thank You</b></center>"
          }
        },
        "2cf775414f3445578ff404ad5005c217": {
          "model_module": "@jupyter-widgets/base",
          "model_name": "LayoutModel",
          "model_module_version": "1.2.0",
          "state": {
            "_model_module": "@jupyter-widgets/base",
            "_model_module_version": "1.2.0",
            "_model_name": "LayoutModel",
            "_view_count": null,
            "_view_module": "@jupyter-widgets/base",
            "_view_module_version": "1.2.0",
            "_view_name": "LayoutView",
            "align_content": null,
            "align_items": "center",
            "align_self": null,
            "border": null,
            "bottom": null,
            "display": "flex",
            "flex": null,
            "flex_flow": "column",
            "grid_area": null,
            "grid_auto_columns": null,
            "grid_auto_flow": null,
            "grid_auto_rows": null,
            "grid_column": null,
            "grid_gap": null,
            "grid_row": null,
            "grid_template_areas": null,
            "grid_template_columns": null,
            "grid_template_rows": null,
            "height": null,
            "justify_content": null,
            "justify_items": null,
            "left": null,
            "margin": null,
            "max_height": null,
            "max_width": null,
            "min_height": null,
            "min_width": null,
            "object_fit": null,
            "object_position": null,
            "order": null,
            "overflow": null,
            "overflow_x": null,
            "overflow_y": null,
            "padding": null,
            "right": null,
            "top": null,
            "visibility": null,
            "width": "50%"
          }
        },
        "e95adc7f8d554a48a85acc6ebf42de7d": {
          "model_module": "@jupyter-widgets/base",
          "model_name": "LayoutModel",
          "model_module_version": "1.2.0",
          "state": {
            "_model_module": "@jupyter-widgets/base",
            "_model_module_version": "1.2.0",
            "_model_name": "LayoutModel",
            "_view_count": null,
            "_view_module": "@jupyter-widgets/base",
            "_view_module_version": "1.2.0",
            "_view_name": "LayoutView",
            "align_content": null,
            "align_items": null,
            "align_self": null,
            "border": null,
            "bottom": null,
            "display": null,
            "flex": null,
            "flex_flow": null,
            "grid_area": null,
            "grid_auto_columns": null,
            "grid_auto_flow": null,
            "grid_auto_rows": null,
            "grid_column": null,
            "grid_gap": null,
            "grid_row": null,
            "grid_template_areas": null,
            "grid_template_columns": null,
            "grid_template_rows": null,
            "height": null,
            "justify_content": null,
            "justify_items": null,
            "left": null,
            "margin": null,
            "max_height": null,
            "max_width": null,
            "min_height": null,
            "min_width": null,
            "object_fit": null,
            "object_position": null,
            "order": null,
            "overflow": null,
            "overflow_x": null,
            "overflow_y": null,
            "padding": null,
            "right": null,
            "top": null,
            "visibility": null,
            "width": null
          }
        },
        "20bfe0ec25dc4e378958ccf8a4fce119": {
          "model_module": "@jupyter-widgets/controls",
          "model_name": "DescriptionStyleModel",
          "model_module_version": "1.5.0",
          "state": {
            "_model_module": "@jupyter-widgets/controls",
            "_model_module_version": "1.5.0",
            "_model_name": "DescriptionStyleModel",
            "_view_count": null,
            "_view_module": "@jupyter-widgets/base",
            "_view_module_version": "1.2.0",
            "_view_name": "StyleView",
            "description_width": ""
          }
        },
        "c2b09f6adb984bc4890fafcbdc746fe9": {
          "model_module": "@jupyter-widgets/base",
          "model_name": "LayoutModel",
          "model_module_version": "1.2.0",
          "state": {
            "_model_module": "@jupyter-widgets/base",
            "_model_module_version": "1.2.0",
            "_model_name": "LayoutModel",
            "_view_count": null,
            "_view_module": "@jupyter-widgets/base",
            "_view_module_version": "1.2.0",
            "_view_name": "LayoutView",
            "align_content": null,
            "align_items": null,
            "align_self": null,
            "border": null,
            "bottom": null,
            "display": null,
            "flex": null,
            "flex_flow": null,
            "grid_area": null,
            "grid_auto_columns": null,
            "grid_auto_flow": null,
            "grid_auto_rows": null,
            "grid_column": null,
            "grid_gap": null,
            "grid_row": null,
            "grid_template_areas": null,
            "grid_template_columns": null,
            "grid_template_rows": null,
            "height": null,
            "justify_content": null,
            "justify_items": null,
            "left": null,
            "margin": null,
            "max_height": null,
            "max_width": null,
            "min_height": null,
            "min_width": null,
            "object_fit": null,
            "object_position": null,
            "order": null,
            "overflow": null,
            "overflow_x": null,
            "overflow_y": null,
            "padding": null,
            "right": null,
            "top": null,
            "visibility": null,
            "width": null
          }
        },
        "f8cef0c272d5439993f5e14fbed6389f": {
          "model_module": "@jupyter-widgets/controls",
          "model_name": "DescriptionStyleModel",
          "model_module_version": "1.5.0",
          "state": {
            "_model_module": "@jupyter-widgets/controls",
            "_model_module_version": "1.5.0",
            "_model_name": "DescriptionStyleModel",
            "_view_count": null,
            "_view_module": "@jupyter-widgets/base",
            "_view_module_version": "1.2.0",
            "_view_name": "StyleView",
            "description_width": ""
          }
        },
        "60185320603f4481843395bde229c02a": {
          "model_module": "@jupyter-widgets/base",
          "model_name": "LayoutModel",
          "model_module_version": "1.2.0",
          "state": {
            "_model_module": "@jupyter-widgets/base",
            "_model_module_version": "1.2.0",
            "_model_name": "LayoutModel",
            "_view_count": null,
            "_view_module": "@jupyter-widgets/base",
            "_view_module_version": "1.2.0",
            "_view_name": "LayoutView",
            "align_content": null,
            "align_items": null,
            "align_self": null,
            "border": null,
            "bottom": null,
            "display": null,
            "flex": null,
            "flex_flow": null,
            "grid_area": null,
            "grid_auto_columns": null,
            "grid_auto_flow": null,
            "grid_auto_rows": null,
            "grid_column": null,
            "grid_gap": null,
            "grid_row": null,
            "grid_template_areas": null,
            "grid_template_columns": null,
            "grid_template_rows": null,
            "height": null,
            "justify_content": null,
            "justify_items": null,
            "left": null,
            "margin": null,
            "max_height": null,
            "max_width": null,
            "min_height": null,
            "min_width": null,
            "object_fit": null,
            "object_position": null,
            "order": null,
            "overflow": null,
            "overflow_x": null,
            "overflow_y": null,
            "padding": null,
            "right": null,
            "top": null,
            "visibility": null,
            "width": null
          }
        },
        "87e1c2d045a644a4a62684ea24d371ec": {
          "model_module": "@jupyter-widgets/controls",
          "model_name": "DescriptionStyleModel",
          "model_module_version": "1.5.0",
          "state": {
            "_model_module": "@jupyter-widgets/controls",
            "_model_module_version": "1.5.0",
            "_model_name": "DescriptionStyleModel",
            "_view_count": null,
            "_view_module": "@jupyter-widgets/base",
            "_view_module_version": "1.2.0",
            "_view_name": "StyleView",
            "description_width": ""
          }
        },
        "17166de1876f45dab200dddb539959bf": {
          "model_module": "@jupyter-widgets/base",
          "model_name": "LayoutModel",
          "model_module_version": "1.2.0",
          "state": {
            "_model_module": "@jupyter-widgets/base",
            "_model_module_version": "1.2.0",
            "_model_name": "LayoutModel",
            "_view_count": null,
            "_view_module": "@jupyter-widgets/base",
            "_view_module_version": "1.2.0",
            "_view_name": "LayoutView",
            "align_content": null,
            "align_items": null,
            "align_self": null,
            "border": null,
            "bottom": null,
            "display": null,
            "flex": null,
            "flex_flow": null,
            "grid_area": null,
            "grid_auto_columns": null,
            "grid_auto_flow": null,
            "grid_auto_rows": null,
            "grid_column": null,
            "grid_gap": null,
            "grid_row": null,
            "grid_template_areas": null,
            "grid_template_columns": null,
            "grid_template_rows": null,
            "height": null,
            "justify_content": null,
            "justify_items": null,
            "left": null,
            "margin": null,
            "max_height": null,
            "max_width": null,
            "min_height": null,
            "min_width": null,
            "object_fit": null,
            "object_position": null,
            "order": null,
            "overflow": null,
            "overflow_x": null,
            "overflow_y": null,
            "padding": null,
            "right": null,
            "top": null,
            "visibility": null,
            "width": null
          }
        },
        "45919fca494d420cbc61ac5ded664d8f": {
          "model_module": "@jupyter-widgets/controls",
          "model_name": "ButtonStyleModel",
          "model_module_version": "1.5.0",
          "state": {
            "_model_module": "@jupyter-widgets/controls",
            "_model_module_version": "1.5.0",
            "_model_name": "ButtonStyleModel",
            "_view_count": null,
            "_view_module": "@jupyter-widgets/base",
            "_view_module_version": "1.2.0",
            "_view_name": "StyleView",
            "button_color": null,
            "font_weight": ""
          }
        },
        "f3a3ecc2b95f416cb6893c0f0d5c5175": {
          "model_module": "@jupyter-widgets/base",
          "model_name": "LayoutModel",
          "model_module_version": "1.2.0",
          "state": {
            "_model_module": "@jupyter-widgets/base",
            "_model_module_version": "1.2.0",
            "_model_name": "LayoutModel",
            "_view_count": null,
            "_view_module": "@jupyter-widgets/base",
            "_view_module_version": "1.2.0",
            "_view_name": "LayoutView",
            "align_content": null,
            "align_items": null,
            "align_self": null,
            "border": null,
            "bottom": null,
            "display": null,
            "flex": null,
            "flex_flow": null,
            "grid_area": null,
            "grid_auto_columns": null,
            "grid_auto_flow": null,
            "grid_auto_rows": null,
            "grid_column": null,
            "grid_gap": null,
            "grid_row": null,
            "grid_template_areas": null,
            "grid_template_columns": null,
            "grid_template_rows": null,
            "height": null,
            "justify_content": null,
            "justify_items": null,
            "left": null,
            "margin": null,
            "max_height": null,
            "max_width": null,
            "min_height": null,
            "min_width": null,
            "object_fit": null,
            "object_position": null,
            "order": null,
            "overflow": null,
            "overflow_x": null,
            "overflow_y": null,
            "padding": null,
            "right": null,
            "top": null,
            "visibility": null,
            "width": null
          }
        },
        "c998fd4c512640879174346dee0c6b2f": {
          "model_module": "@jupyter-widgets/controls",
          "model_name": "DescriptionStyleModel",
          "model_module_version": "1.5.0",
          "state": {
            "_model_module": "@jupyter-widgets/controls",
            "_model_module_version": "1.5.0",
            "_model_name": "DescriptionStyleModel",
            "_view_count": null,
            "_view_module": "@jupyter-widgets/base",
            "_view_module_version": "1.2.0",
            "_view_name": "StyleView",
            "description_width": ""
          }
        },
        "5e11bbc0305c40acbdd5c6c2ebce19bd": {
          "model_module": "@jupyter-widgets/controls",
          "model_name": "LabelModel",
          "model_module_version": "1.5.0",
          "state": {
            "_dom_classes": [],
            "_model_module": "@jupyter-widgets/controls",
            "_model_module_version": "1.5.0",
            "_model_name": "LabelModel",
            "_view_count": null,
            "_view_module": "@jupyter-widgets/controls",
            "_view_module_version": "1.5.0",
            "_view_name": "LabelView",
            "description": "",
            "description_tooltip": null,
            "layout": "IPY_MODEL_7e4389a682374cb3ada14d0022e95e10",
            "placeholder": "​",
            "style": "IPY_MODEL_74e89ab6465e4a0eb7443dea3ef3e316",
            "value": "Connecting..."
          }
        },
        "7e4389a682374cb3ada14d0022e95e10": {
          "model_module": "@jupyter-widgets/base",
          "model_name": "LayoutModel",
          "model_module_version": "1.2.0",
          "state": {
            "_model_module": "@jupyter-widgets/base",
            "_model_module_version": "1.2.0",
            "_model_name": "LayoutModel",
            "_view_count": null,
            "_view_module": "@jupyter-widgets/base",
            "_view_module_version": "1.2.0",
            "_view_name": "LayoutView",
            "align_content": null,
            "align_items": null,
            "align_self": null,
            "border": null,
            "bottom": null,
            "display": null,
            "flex": null,
            "flex_flow": null,
            "grid_area": null,
            "grid_auto_columns": null,
            "grid_auto_flow": null,
            "grid_auto_rows": null,
            "grid_column": null,
            "grid_gap": null,
            "grid_row": null,
            "grid_template_areas": null,
            "grid_template_columns": null,
            "grid_template_rows": null,
            "height": null,
            "justify_content": null,
            "justify_items": null,
            "left": null,
            "margin": null,
            "max_height": null,
            "max_width": null,
            "min_height": null,
            "min_width": null,
            "object_fit": null,
            "object_position": null,
            "order": null,
            "overflow": null,
            "overflow_x": null,
            "overflow_y": null,
            "padding": null,
            "right": null,
            "top": null,
            "visibility": null,
            "width": null
          }
        },
        "74e89ab6465e4a0eb7443dea3ef3e316": {
          "model_module": "@jupyter-widgets/controls",
          "model_name": "DescriptionStyleModel",
          "model_module_version": "1.5.0",
          "state": {
            "_model_module": "@jupyter-widgets/controls",
            "_model_module_version": "1.5.0",
            "_model_name": "DescriptionStyleModel",
            "_view_count": null,
            "_view_module": "@jupyter-widgets/base",
            "_view_module_version": "1.2.0",
            "_view_name": "StyleView",
            "description_width": ""
          }
        },
        "f087cc197661424fb4faff5d93c7f063": {
          "model_module": "@jupyter-widgets/controls",
          "model_name": "LabelModel",
          "model_module_version": "1.5.0",
          "state": {
            "_dom_classes": [],
            "_model_module": "@jupyter-widgets/controls",
            "_model_module_version": "1.5.0",
            "_model_name": "LabelModel",
            "_view_count": null,
            "_view_module": "@jupyter-widgets/controls",
            "_view_module_version": "1.5.0",
            "_view_name": "LabelView",
            "description": "",
            "description_tooltip": null,
            "layout": "IPY_MODEL_a78a53915cbc4a72b25f5366d4ab20af",
            "placeholder": "​",
            "style": "IPY_MODEL_a4f1fcf01a22471ebc1f171cdeace705",
            "value": "Kaggle credentials successfully validated."
          }
        },
        "a78a53915cbc4a72b25f5366d4ab20af": {
          "model_module": "@jupyter-widgets/base",
          "model_name": "LayoutModel",
          "model_module_version": "1.2.0",
          "state": {
            "_model_module": "@jupyter-widgets/base",
            "_model_module_version": "1.2.0",
            "_model_name": "LayoutModel",
            "_view_count": null,
            "_view_module": "@jupyter-widgets/base",
            "_view_module_version": "1.2.0",
            "_view_name": "LayoutView",
            "align_content": null,
            "align_items": null,
            "align_self": null,
            "border": null,
            "bottom": null,
            "display": null,
            "flex": null,
            "flex_flow": null,
            "grid_area": null,
            "grid_auto_columns": null,
            "grid_auto_flow": null,
            "grid_auto_rows": null,
            "grid_column": null,
            "grid_gap": null,
            "grid_row": null,
            "grid_template_areas": null,
            "grid_template_columns": null,
            "grid_template_rows": null,
            "height": null,
            "justify_content": null,
            "justify_items": null,
            "left": null,
            "margin": null,
            "max_height": null,
            "max_width": null,
            "min_height": null,
            "min_width": null,
            "object_fit": null,
            "object_position": null,
            "order": null,
            "overflow": null,
            "overflow_x": null,
            "overflow_y": null,
            "padding": null,
            "right": null,
            "top": null,
            "visibility": null,
            "width": null
          }
        },
        "a4f1fcf01a22471ebc1f171cdeace705": {
          "model_module": "@jupyter-widgets/controls",
          "model_name": "DescriptionStyleModel",
          "model_module_version": "1.5.0",
          "state": {
            "_model_module": "@jupyter-widgets/controls",
            "_model_module_version": "1.5.0",
            "_model_name": "DescriptionStyleModel",
            "_view_count": null,
            "_view_module": "@jupyter-widgets/base",
            "_view_module_version": "1.2.0",
            "_view_name": "StyleView",
            "description_width": ""
          }
        }
      }
    }
  },
  "nbformat_minor": 0,
  "nbformat": 4,
  "cells": [
    {
      "cell_type": "markdown",
      "metadata": {
        "id": "view-in-github",
        "colab_type": "text"
      },
      "source": [
        "<a href=\"https://colab.research.google.com/github/Geeta80/DDOS_Detection/blob/master/multiclass_ovo_ovr_oner_cic_ddos2019_01.ipynb\" target=\"_parent\"><img src=\"https://colab.research.google.com/assets/colab-badge.svg\" alt=\"Open In Colab\"/></a>"
      ]
    },
    {
      "cell_type": "code",
      "source": [
        "from google.colab import drive\n",
        "drive.mount('/content/drive')"
      ],
      "metadata": {
        "id": "t46KBLigoHvK"
      },
      "execution_count": null,
      "outputs": []
    },
    {
      "cell_type": "code",
      "source": [
        "from google.colab import userdata\n",
        "userdata.get('geetasingh19')"
      ],
      "metadata": {
        "id": "HaED2MZZlVwX",
        "outputId": "16c2a883-5c26-41df-fe93-012256dbf7db",
        "colab": {
          "base_uri": "https://localhost:8080/",
          "height": 36
        }
      },
      "execution_count": 3,
      "outputs": [
        {
          "output_type": "execute_result",
          "data": {
            "text/plain": [
              "'7fe3ebc7b0534c06b65a6226b1701273'"
            ],
            "application/vnd.google.colaboratory.intrinsic+json": {
              "type": "string"
            }
          },
          "metadata": {},
          "execution_count": 3
        }
      ]
    },
    {
      "source": [
        "# IMPORTANT: SOME KAGGLE DATA SOURCES ARE PRIVATE\n",
        "# RUN THIS CELL IN ORDER TO IMPORT YOUR KAGGLE DATA SOURCES.\n",
        "import kagglehub\n",
        "kagglehub.login()\n"
      ],
      "metadata": {
        "id": "BpWX54-2asjL",
        "outputId": "1c0c1d4c-5181-4368-a78a-7152912e0a38",
        "colab": {
          "base_uri": "https://localhost:8080/",
          "height": 84,
          "referenced_widgets": [
            "563407fc037646e1a3f29bf9c09137fe",
            "753fc84b016643628f9d08e39d1c6b0d",
            "a1c068de30854317841c4d74264cfafe",
            "b230e8196c84434eb775969837a99280",
            "4e3ea5e847cc4a10a204c21f7711afd6",
            "7ecb9ef905cb4607897951fdd33a7219",
            "2cf775414f3445578ff404ad5005c217",
            "e95adc7f8d554a48a85acc6ebf42de7d",
            "20bfe0ec25dc4e378958ccf8a4fce119",
            "c2b09f6adb984bc4890fafcbdc746fe9",
            "f8cef0c272d5439993f5e14fbed6389f",
            "60185320603f4481843395bde229c02a",
            "87e1c2d045a644a4a62684ea24d371ec",
            "17166de1876f45dab200dddb539959bf",
            "45919fca494d420cbc61ac5ded664d8f",
            "f3a3ecc2b95f416cb6893c0f0d5c5175",
            "c998fd4c512640879174346dee0c6b2f",
            "5e11bbc0305c40acbdd5c6c2ebce19bd",
            "7e4389a682374cb3ada14d0022e95e10",
            "74e89ab6465e4a0eb7443dea3ef3e316",
            "f087cc197661424fb4faff5d93c7f063",
            "a78a53915cbc4a72b25f5366d4ab20af",
            "a4f1fcf01a22471ebc1f171cdeace705"
          ]
        }
      },
      "cell_type": "code",
      "outputs": [
        {
          "output_type": "display_data",
          "data": {
            "text/plain": [
              "VBox(children=(HTML(value='<center> <img\\nsrc=https://www.kaggle.com/static/images/site-logo.png\\nalt=\\'Kaggle…"
            ],
            "application/vnd.jupyter.widget-view+json": {
              "version_major": 2,
              "version_minor": 0,
              "model_id": "563407fc037646e1a3f29bf9c09137fe"
            }
          },
          "metadata": {}
        },
        {
          "output_type": "stream",
          "name": "stdout",
          "text": [
            "Kaggle credentials set.\n",
            "Kaggle credentials successfully validated.\n"
          ]
        }
      ],
      "execution_count": 4
    },
    {
      "source": [
        "# IMPORTANT: RUN THIS CELL IN ORDER TO IMPORT YOUR KAGGLE DATA SOURCES,\n",
        "# THEN FEEL FREE TO DELETE THIS CELL.\n",
        "# NOTE: THIS NOTEBOOK ENVIRONMENT DIFFERS FROM KAGGLE'S PYTHON\n",
        "# ENVIRONMENT SO THERE MAY BE MISSING LIBRARIES USED BY YOUR\n",
        "# NOTEBOOK.\n",
        "\n",
        "geetasingh19_cicddos2019labelencoded_path = kagglehub.dataset_download('geetasingh19/cicddos2019labelencoded')\n",
        "geetasingh19_cicddos2019only11catlabelbalanced_train_path = kagglehub.dataset_download('geetasingh19/cicddos2019only11catlabelbalanced-train')\n",
        "\n",
        "print('Data source import complete.')\n"
      ],
      "metadata": {
        "id": "qX5SObjlasjM",
        "outputId": "bb91fca8-39a6-4ec4-ebc3-75bab52b0d37",
        "colab": {
          "base_uri": "https://localhost:8080/"
        }
      },
      "cell_type": "code",
      "outputs": [
        {
          "output_type": "stream",
          "name": "stdout",
          "text": [
            "Data source import complete.\n"
          ]
        }
      ],
      "execution_count": 5
    },
    {
      "cell_type": "code",
      "source": [
        "from fastcore.basics import *\n",
        "from fastcore.parallel import *\n",
        "from sklearn.tree import DecisionTreeClassifier\n",
        "from sklearn.metrics import roc_auc_score, roc_curve, precision_score, recall_score, f1_score, accuracy_score\n",
        "from functools import partial\n",
        "from os import cpu_count\n",
        "import pandas as pd\n",
        "import numpy as np"
      ],
      "metadata": {
        "execution": {
          "iopub.status.busy": "2024-12-02T17:02:14.959415Z",
          "iopub.execute_input": "2024-12-02T17:02:14.95986Z",
          "iopub.status.idle": "2024-12-02T17:02:18.294127Z",
          "shell.execute_reply.started": "2024-12-02T17:02:14.95982Z",
          "shell.execute_reply": "2024-12-02T17:02:18.292941Z"
        },
        "trusted": true,
        "id": "OR85yYdDasjN"
      },
      "outputs": [],
      "execution_count": 6
    },
    {
      "cell_type": "code",
      "source": [
        "file_path = geetasingh19_cicddos2019only11catlabelbalanced_train_path + '/CICDDoS2019Only12CatLabelBalanced_train.csv'\n",
        "df = pd.read_csv(file_path)"
      ],
      "metadata": {
        "id": "Yq6gfa0D9Imx"
      },
      "execution_count": 7,
      "outputs": []
    },
    {
      "cell_type": "code",
      "source": [
        "df.columns = df.columns.str.replace(' ', '')\n",
        "df.head(10)"
      ],
      "metadata": {
        "trusted": true,
        "execution": {
          "iopub.status.busy": "2024-12-02T17:02:19.698042Z",
          "iopub.execute_input": "2024-12-02T17:02:19.698508Z",
          "iopub.status.idle": "2024-12-02T17:02:19.72412Z",
          "shell.execute_reply.started": "2024-12-02T17:02:19.698457Z",
          "shell.execute_reply": "2024-12-02T17:02:19.72267Z"
        },
        "id": "pxaDDLxvasjO",
        "outputId": "4e7cdfae-ac70-4955-fec4-08eead26ff9d",
        "colab": {
          "base_uri": "https://localhost:8080/",
          "height": 412
        }
      },
      "outputs": [
        {
          "output_type": "execute_result",
          "data": {
            "text/plain": [
              "   Protocol  FlowDuration  TotalFwdPackets  TotalBackwardPackets  \\\n",
              "0        17      40694755                5                     0   \n",
              "1         0     113871580               52                     0   \n",
              "2         0     112936309               39                     0   \n",
              "3         6      24944828                8                     6   \n",
              "4        17         20779                2                     2   \n",
              "5         6     118074966               36                    48   \n",
              "6        17         20568                2                     2   \n",
              "7        17         65675                2                     2   \n",
              "8        17         20684                2                     2   \n",
              "9         6         90699                4                     2   \n",
              "\n",
              "   FwdPacketsLengthTotal  BwdPacketsLengthTotal  FwdPacketLengthMax  \\\n",
              "0                   1500                      0                 300   \n",
              "1                      0                      0                   0   \n",
              "2                      0                      0                   0   \n",
              "3                     37                      0                  31   \n",
              "4                     86                    366                  43   \n",
              "5                   2474                  67854                 517   \n",
              "6                     86                    118                  43   \n",
              "7                     86                    118                  43   \n",
              "8                     86                    198                  43   \n",
              "9                     62                     70                  31   \n",
              "\n",
              "   FwdPacketLengthMin  FwdPacketLengthMean  FwdPacketLengthStd  ...  \\\n",
              "0                 300            300.00000            0.000000  ...   \n",
              "1                   0              0.00000            0.000000  ...   \n",
              "2                   0              0.00000            0.000000  ...   \n",
              "3                   0              4.62500           10.662852  ...   \n",
              "4                  43             43.00000            0.000000  ...   \n",
              "5                   0             68.72222          134.701700  ...   \n",
              "6                  43             43.00000            0.000000  ...   \n",
              "7                  43             43.00000            0.000000  ...   \n",
              "8                  43             43.00000            0.000000  ...   \n",
              "9                   0             15.50000           17.897858  ...   \n",
              "\n",
              "   FwdSegSizeMin    ActiveMean     ActiveStd  ActiveMax  ActiveMin  \\\n",
              "0    -1062718975      0.000000      0.000000          0          0   \n",
              "1              0      6.083334      0.668558          7          5   \n",
              "2              0      4.916666      0.514929          6          4   \n",
              "3             20  20876.000000    313.955400      21098      20654   \n",
              "4              0      0.000000      0.000000          0          0   \n",
              "5             20  88838.000000  15440.384000      99756      77920   \n",
              "6             32      0.000000      0.000000          0          0   \n",
              "7             32      0.000000      0.000000          0          0   \n",
              "8             20      0.000000      0.000000          0          0   \n",
              "9             20      0.000000      0.000000          0          0   \n",
              "\n",
              "     IdleMean       IdleStd   IdleMax   IdleMin   Label  \n",
              "0  10173689.0  3.593932e+06  14671724   6369775  Benign  \n",
              "1   9489292.0  2.133550e+05   9806952   9169328  Benign  \n",
              "2   9411354.0  2.927876e+05   9869393   9048974  Benign  \n",
              "3  10009953.0  3.139554e+02  10010175  10009731  Benign  \n",
              "4         0.0  0.000000e+00         0         0  Benign  \n",
              "5  58909704.0  2.302835e+04  58925988  58893420  Benign  \n",
              "6         0.0  0.000000e+00         0         0  Benign  \n",
              "7         0.0  0.000000e+00         0         0  Benign  \n",
              "8         0.0  0.000000e+00         0         0  Benign  \n",
              "9         0.0  0.000000e+00         0         0  Benign  \n",
              "\n",
              "[10 rows x 78 columns]"
            ],
            "text/html": [
              "\n",
              "  <div id=\"df-6daa4759-a569-446c-b527-51c513f5dc68\" class=\"colab-df-container\">\n",
              "    <div>\n",
              "<style scoped>\n",
              "    .dataframe tbody tr th:only-of-type {\n",
              "        vertical-align: middle;\n",
              "    }\n",
              "\n",
              "    .dataframe tbody tr th {\n",
              "        vertical-align: top;\n",
              "    }\n",
              "\n",
              "    .dataframe thead th {\n",
              "        text-align: right;\n",
              "    }\n",
              "</style>\n",
              "<table border=\"1\" class=\"dataframe\">\n",
              "  <thead>\n",
              "    <tr style=\"text-align: right;\">\n",
              "      <th></th>\n",
              "      <th>Protocol</th>\n",
              "      <th>FlowDuration</th>\n",
              "      <th>TotalFwdPackets</th>\n",
              "      <th>TotalBackwardPackets</th>\n",
              "      <th>FwdPacketsLengthTotal</th>\n",
              "      <th>BwdPacketsLengthTotal</th>\n",
              "      <th>FwdPacketLengthMax</th>\n",
              "      <th>FwdPacketLengthMin</th>\n",
              "      <th>FwdPacketLengthMean</th>\n",
              "      <th>FwdPacketLengthStd</th>\n",
              "      <th>...</th>\n",
              "      <th>FwdSegSizeMin</th>\n",
              "      <th>ActiveMean</th>\n",
              "      <th>ActiveStd</th>\n",
              "      <th>ActiveMax</th>\n",
              "      <th>ActiveMin</th>\n",
              "      <th>IdleMean</th>\n",
              "      <th>IdleStd</th>\n",
              "      <th>IdleMax</th>\n",
              "      <th>IdleMin</th>\n",
              "      <th>Label</th>\n",
              "    </tr>\n",
              "  </thead>\n",
              "  <tbody>\n",
              "    <tr>\n",
              "      <th>0</th>\n",
              "      <td>17</td>\n",
              "      <td>40694755</td>\n",
              "      <td>5</td>\n",
              "      <td>0</td>\n",
              "      <td>1500</td>\n",
              "      <td>0</td>\n",
              "      <td>300</td>\n",
              "      <td>300</td>\n",
              "      <td>300.00000</td>\n",
              "      <td>0.000000</td>\n",
              "      <td>...</td>\n",
              "      <td>-1062718975</td>\n",
              "      <td>0.000000</td>\n",
              "      <td>0.000000</td>\n",
              "      <td>0</td>\n",
              "      <td>0</td>\n",
              "      <td>10173689.0</td>\n",
              "      <td>3.593932e+06</td>\n",
              "      <td>14671724</td>\n",
              "      <td>6369775</td>\n",
              "      <td>Benign</td>\n",
              "    </tr>\n",
              "    <tr>\n",
              "      <th>1</th>\n",
              "      <td>0</td>\n",
              "      <td>113871580</td>\n",
              "      <td>52</td>\n",
              "      <td>0</td>\n",
              "      <td>0</td>\n",
              "      <td>0</td>\n",
              "      <td>0</td>\n",
              "      <td>0</td>\n",
              "      <td>0.00000</td>\n",
              "      <td>0.000000</td>\n",
              "      <td>...</td>\n",
              "      <td>0</td>\n",
              "      <td>6.083334</td>\n",
              "      <td>0.668558</td>\n",
              "      <td>7</td>\n",
              "      <td>5</td>\n",
              "      <td>9489292.0</td>\n",
              "      <td>2.133550e+05</td>\n",
              "      <td>9806952</td>\n",
              "      <td>9169328</td>\n",
              "      <td>Benign</td>\n",
              "    </tr>\n",
              "    <tr>\n",
              "      <th>2</th>\n",
              "      <td>0</td>\n",
              "      <td>112936309</td>\n",
              "      <td>39</td>\n",
              "      <td>0</td>\n",
              "      <td>0</td>\n",
              "      <td>0</td>\n",
              "      <td>0</td>\n",
              "      <td>0</td>\n",
              "      <td>0.00000</td>\n",
              "      <td>0.000000</td>\n",
              "      <td>...</td>\n",
              "      <td>0</td>\n",
              "      <td>4.916666</td>\n",
              "      <td>0.514929</td>\n",
              "      <td>6</td>\n",
              "      <td>4</td>\n",
              "      <td>9411354.0</td>\n",
              "      <td>2.927876e+05</td>\n",
              "      <td>9869393</td>\n",
              "      <td>9048974</td>\n",
              "      <td>Benign</td>\n",
              "    </tr>\n",
              "    <tr>\n",
              "      <th>3</th>\n",
              "      <td>6</td>\n",
              "      <td>24944828</td>\n",
              "      <td>8</td>\n",
              "      <td>6</td>\n",
              "      <td>37</td>\n",
              "      <td>0</td>\n",
              "      <td>31</td>\n",
              "      <td>0</td>\n",
              "      <td>4.62500</td>\n",
              "      <td>10.662852</td>\n",
              "      <td>...</td>\n",
              "      <td>20</td>\n",
              "      <td>20876.000000</td>\n",
              "      <td>313.955400</td>\n",
              "      <td>21098</td>\n",
              "      <td>20654</td>\n",
              "      <td>10009953.0</td>\n",
              "      <td>3.139554e+02</td>\n",
              "      <td>10010175</td>\n",
              "      <td>10009731</td>\n",
              "      <td>Benign</td>\n",
              "    </tr>\n",
              "    <tr>\n",
              "      <th>4</th>\n",
              "      <td>17</td>\n",
              "      <td>20779</td>\n",
              "      <td>2</td>\n",
              "      <td>2</td>\n",
              "      <td>86</td>\n",
              "      <td>366</td>\n",
              "      <td>43</td>\n",
              "      <td>43</td>\n",
              "      <td>43.00000</td>\n",
              "      <td>0.000000</td>\n",
              "      <td>...</td>\n",
              "      <td>0</td>\n",
              "      <td>0.000000</td>\n",
              "      <td>0.000000</td>\n",
              "      <td>0</td>\n",
              "      <td>0</td>\n",
              "      <td>0.0</td>\n",
              "      <td>0.000000e+00</td>\n",
              "      <td>0</td>\n",
              "      <td>0</td>\n",
              "      <td>Benign</td>\n",
              "    </tr>\n",
              "    <tr>\n",
              "      <th>5</th>\n",
              "      <td>6</td>\n",
              "      <td>118074966</td>\n",
              "      <td>36</td>\n",
              "      <td>48</td>\n",
              "      <td>2474</td>\n",
              "      <td>67854</td>\n",
              "      <td>517</td>\n",
              "      <td>0</td>\n",
              "      <td>68.72222</td>\n",
              "      <td>134.701700</td>\n",
              "      <td>...</td>\n",
              "      <td>20</td>\n",
              "      <td>88838.000000</td>\n",
              "      <td>15440.384000</td>\n",
              "      <td>99756</td>\n",
              "      <td>77920</td>\n",
              "      <td>58909704.0</td>\n",
              "      <td>2.302835e+04</td>\n",
              "      <td>58925988</td>\n",
              "      <td>58893420</td>\n",
              "      <td>Benign</td>\n",
              "    </tr>\n",
              "    <tr>\n",
              "      <th>6</th>\n",
              "      <td>17</td>\n",
              "      <td>20568</td>\n",
              "      <td>2</td>\n",
              "      <td>2</td>\n",
              "      <td>86</td>\n",
              "      <td>118</td>\n",
              "      <td>43</td>\n",
              "      <td>43</td>\n",
              "      <td>43.00000</td>\n",
              "      <td>0.000000</td>\n",
              "      <td>...</td>\n",
              "      <td>32</td>\n",
              "      <td>0.000000</td>\n",
              "      <td>0.000000</td>\n",
              "      <td>0</td>\n",
              "      <td>0</td>\n",
              "      <td>0.0</td>\n",
              "      <td>0.000000e+00</td>\n",
              "      <td>0</td>\n",
              "      <td>0</td>\n",
              "      <td>Benign</td>\n",
              "    </tr>\n",
              "    <tr>\n",
              "      <th>7</th>\n",
              "      <td>17</td>\n",
              "      <td>65675</td>\n",
              "      <td>2</td>\n",
              "      <td>2</td>\n",
              "      <td>86</td>\n",
              "      <td>118</td>\n",
              "      <td>43</td>\n",
              "      <td>43</td>\n",
              "      <td>43.00000</td>\n",
              "      <td>0.000000</td>\n",
              "      <td>...</td>\n",
              "      <td>32</td>\n",
              "      <td>0.000000</td>\n",
              "      <td>0.000000</td>\n",
              "      <td>0</td>\n",
              "      <td>0</td>\n",
              "      <td>0.0</td>\n",
              "      <td>0.000000e+00</td>\n",
              "      <td>0</td>\n",
              "      <td>0</td>\n",
              "      <td>Benign</td>\n",
              "    </tr>\n",
              "    <tr>\n",
              "      <th>8</th>\n",
              "      <td>17</td>\n",
              "      <td>20684</td>\n",
              "      <td>2</td>\n",
              "      <td>2</td>\n",
              "      <td>86</td>\n",
              "      <td>198</td>\n",
              "      <td>43</td>\n",
              "      <td>43</td>\n",
              "      <td>43.00000</td>\n",
              "      <td>0.000000</td>\n",
              "      <td>...</td>\n",
              "      <td>20</td>\n",
              "      <td>0.000000</td>\n",
              "      <td>0.000000</td>\n",
              "      <td>0</td>\n",
              "      <td>0</td>\n",
              "      <td>0.0</td>\n",
              "      <td>0.000000e+00</td>\n",
              "      <td>0</td>\n",
              "      <td>0</td>\n",
              "      <td>Benign</td>\n",
              "    </tr>\n",
              "    <tr>\n",
              "      <th>9</th>\n",
              "      <td>6</td>\n",
              "      <td>90699</td>\n",
              "      <td>4</td>\n",
              "      <td>2</td>\n",
              "      <td>62</td>\n",
              "      <td>70</td>\n",
              "      <td>31</td>\n",
              "      <td>0</td>\n",
              "      <td>15.50000</td>\n",
              "      <td>17.897858</td>\n",
              "      <td>...</td>\n",
              "      <td>20</td>\n",
              "      <td>0.000000</td>\n",
              "      <td>0.000000</td>\n",
              "      <td>0</td>\n",
              "      <td>0</td>\n",
              "      <td>0.0</td>\n",
              "      <td>0.000000e+00</td>\n",
              "      <td>0</td>\n",
              "      <td>0</td>\n",
              "      <td>Benign</td>\n",
              "    </tr>\n",
              "  </tbody>\n",
              "</table>\n",
              "<p>10 rows × 78 columns</p>\n",
              "</div>\n",
              "    <div class=\"colab-df-buttons\">\n",
              "\n",
              "  <div class=\"colab-df-container\">\n",
              "    <button class=\"colab-df-convert\" onclick=\"convertToInteractive('df-6daa4759-a569-446c-b527-51c513f5dc68')\"\n",
              "            title=\"Convert this dataframe to an interactive table.\"\n",
              "            style=\"display:none;\">\n",
              "\n",
              "  <svg xmlns=\"http://www.w3.org/2000/svg\" height=\"24px\" viewBox=\"0 -960 960 960\">\n",
              "    <path d=\"M120-120v-720h720v720H120Zm60-500h600v-160H180v160Zm220 220h160v-160H400v160Zm0 220h160v-160H400v160ZM180-400h160v-160H180v160Zm440 0h160v-160H620v160ZM180-180h160v-160H180v160Zm440 0h160v-160H620v160Z\"/>\n",
              "  </svg>\n",
              "    </button>\n",
              "\n",
              "  <style>\n",
              "    .colab-df-container {\n",
              "      display:flex;\n",
              "      gap: 12px;\n",
              "    }\n",
              "\n",
              "    .colab-df-convert {\n",
              "      background-color: #E8F0FE;\n",
              "      border: none;\n",
              "      border-radius: 50%;\n",
              "      cursor: pointer;\n",
              "      display: none;\n",
              "      fill: #1967D2;\n",
              "      height: 32px;\n",
              "      padding: 0 0 0 0;\n",
              "      width: 32px;\n",
              "    }\n",
              "\n",
              "    .colab-df-convert:hover {\n",
              "      background-color: #E2EBFA;\n",
              "      box-shadow: 0px 1px 2px rgba(60, 64, 67, 0.3), 0px 1px 3px 1px rgba(60, 64, 67, 0.15);\n",
              "      fill: #174EA6;\n",
              "    }\n",
              "\n",
              "    .colab-df-buttons div {\n",
              "      margin-bottom: 4px;\n",
              "    }\n",
              "\n",
              "    [theme=dark] .colab-df-convert {\n",
              "      background-color: #3B4455;\n",
              "      fill: #D2E3FC;\n",
              "    }\n",
              "\n",
              "    [theme=dark] .colab-df-convert:hover {\n",
              "      background-color: #434B5C;\n",
              "      box-shadow: 0px 1px 3px 1px rgba(0, 0, 0, 0.15);\n",
              "      filter: drop-shadow(0px 1px 2px rgba(0, 0, 0, 0.3));\n",
              "      fill: #FFFFFF;\n",
              "    }\n",
              "  </style>\n",
              "\n",
              "    <script>\n",
              "      const buttonEl =\n",
              "        document.querySelector('#df-6daa4759-a569-446c-b527-51c513f5dc68 button.colab-df-convert');\n",
              "      buttonEl.style.display =\n",
              "        google.colab.kernel.accessAllowed ? 'block' : 'none';\n",
              "\n",
              "      async function convertToInteractive(key) {\n",
              "        const element = document.querySelector('#df-6daa4759-a569-446c-b527-51c513f5dc68');\n",
              "        const dataTable =\n",
              "          await google.colab.kernel.invokeFunction('convertToInteractive',\n",
              "                                                    [key], {});\n",
              "        if (!dataTable) return;\n",
              "\n",
              "        const docLinkHtml = 'Like what you see? Visit the ' +\n",
              "          '<a target=\"_blank\" href=https://colab.research.google.com/notebooks/data_table.ipynb>data table notebook</a>'\n",
              "          + ' to learn more about interactive tables.';\n",
              "        element.innerHTML = '';\n",
              "        dataTable['output_type'] = 'display_data';\n",
              "        await google.colab.output.renderOutput(dataTable, element);\n",
              "        const docLink = document.createElement('div');\n",
              "        docLink.innerHTML = docLinkHtml;\n",
              "        element.appendChild(docLink);\n",
              "      }\n",
              "    </script>\n",
              "  </div>\n",
              "\n",
              "\n",
              "<div id=\"df-cf03225c-fb90-418f-ae75-39fac1dc5c20\">\n",
              "  <button class=\"colab-df-quickchart\" onclick=\"quickchart('df-cf03225c-fb90-418f-ae75-39fac1dc5c20')\"\n",
              "            title=\"Suggest charts\"\n",
              "            style=\"display:none;\">\n",
              "\n",
              "<svg xmlns=\"http://www.w3.org/2000/svg\" height=\"24px\"viewBox=\"0 0 24 24\"\n",
              "     width=\"24px\">\n",
              "    <g>\n",
              "        <path d=\"M19 3H5c-1.1 0-2 .9-2 2v14c0 1.1.9 2 2 2h14c1.1 0 2-.9 2-2V5c0-1.1-.9-2-2-2zM9 17H7v-7h2v7zm4 0h-2V7h2v10zm4 0h-2v-4h2v4z\"/>\n",
              "    </g>\n",
              "</svg>\n",
              "  </button>\n",
              "\n",
              "<style>\n",
              "  .colab-df-quickchart {\n",
              "      --bg-color: #E8F0FE;\n",
              "      --fill-color: #1967D2;\n",
              "      --hover-bg-color: #E2EBFA;\n",
              "      --hover-fill-color: #174EA6;\n",
              "      --disabled-fill-color: #AAA;\n",
              "      --disabled-bg-color: #DDD;\n",
              "  }\n",
              "\n",
              "  [theme=dark] .colab-df-quickchart {\n",
              "      --bg-color: #3B4455;\n",
              "      --fill-color: #D2E3FC;\n",
              "      --hover-bg-color: #434B5C;\n",
              "      --hover-fill-color: #FFFFFF;\n",
              "      --disabled-bg-color: #3B4455;\n",
              "      --disabled-fill-color: #666;\n",
              "  }\n",
              "\n",
              "  .colab-df-quickchart {\n",
              "    background-color: var(--bg-color);\n",
              "    border: none;\n",
              "    border-radius: 50%;\n",
              "    cursor: pointer;\n",
              "    display: none;\n",
              "    fill: var(--fill-color);\n",
              "    height: 32px;\n",
              "    padding: 0;\n",
              "    width: 32px;\n",
              "  }\n",
              "\n",
              "  .colab-df-quickchart:hover {\n",
              "    background-color: var(--hover-bg-color);\n",
              "    box-shadow: 0 1px 2px rgba(60, 64, 67, 0.3), 0 1px 3px 1px rgba(60, 64, 67, 0.15);\n",
              "    fill: var(--button-hover-fill-color);\n",
              "  }\n",
              "\n",
              "  .colab-df-quickchart-complete:disabled,\n",
              "  .colab-df-quickchart-complete:disabled:hover {\n",
              "    background-color: var(--disabled-bg-color);\n",
              "    fill: var(--disabled-fill-color);\n",
              "    box-shadow: none;\n",
              "  }\n",
              "\n",
              "  .colab-df-spinner {\n",
              "    border: 2px solid var(--fill-color);\n",
              "    border-color: transparent;\n",
              "    border-bottom-color: var(--fill-color);\n",
              "    animation:\n",
              "      spin 1s steps(1) infinite;\n",
              "  }\n",
              "\n",
              "  @keyframes spin {\n",
              "    0% {\n",
              "      border-color: transparent;\n",
              "      border-bottom-color: var(--fill-color);\n",
              "      border-left-color: var(--fill-color);\n",
              "    }\n",
              "    20% {\n",
              "      border-color: transparent;\n",
              "      border-left-color: var(--fill-color);\n",
              "      border-top-color: var(--fill-color);\n",
              "    }\n",
              "    30% {\n",
              "      border-color: transparent;\n",
              "      border-left-color: var(--fill-color);\n",
              "      border-top-color: var(--fill-color);\n",
              "      border-right-color: var(--fill-color);\n",
              "    }\n",
              "    40% {\n",
              "      border-color: transparent;\n",
              "      border-right-color: var(--fill-color);\n",
              "      border-top-color: var(--fill-color);\n",
              "    }\n",
              "    60% {\n",
              "      border-color: transparent;\n",
              "      border-right-color: var(--fill-color);\n",
              "    }\n",
              "    80% {\n",
              "      border-color: transparent;\n",
              "      border-right-color: var(--fill-color);\n",
              "      border-bottom-color: var(--fill-color);\n",
              "    }\n",
              "    90% {\n",
              "      border-color: transparent;\n",
              "      border-bottom-color: var(--fill-color);\n",
              "    }\n",
              "  }\n",
              "</style>\n",
              "\n",
              "  <script>\n",
              "    async function quickchart(key) {\n",
              "      const quickchartButtonEl =\n",
              "        document.querySelector('#' + key + ' button');\n",
              "      quickchartButtonEl.disabled = true;  // To prevent multiple clicks.\n",
              "      quickchartButtonEl.classList.add('colab-df-spinner');\n",
              "      try {\n",
              "        const charts = await google.colab.kernel.invokeFunction(\n",
              "            'suggestCharts', [key], {});\n",
              "      } catch (error) {\n",
              "        console.error('Error during call to suggestCharts:', error);\n",
              "      }\n",
              "      quickchartButtonEl.classList.remove('colab-df-spinner');\n",
              "      quickchartButtonEl.classList.add('colab-df-quickchart-complete');\n",
              "    }\n",
              "    (() => {\n",
              "      let quickchartButtonEl =\n",
              "        document.querySelector('#df-cf03225c-fb90-418f-ae75-39fac1dc5c20 button');\n",
              "      quickchartButtonEl.style.display =\n",
              "        google.colab.kernel.accessAllowed ? 'block' : 'none';\n",
              "    })();\n",
              "  </script>\n",
              "</div>\n",
              "\n",
              "    </div>\n",
              "  </div>\n"
            ],
            "application/vnd.google.colaboratory.intrinsic+json": {
              "type": "dataframe",
              "variable_name": "df"
            }
          },
          "metadata": {},
          "execution_count": 8
        }
      ],
      "execution_count": 8
    },
    {
      "cell_type": "code",
      "source": [
        "df.FlowDuration.value_counts()"
      ],
      "metadata": {
        "trusted": true,
        "execution": {
          "iopub.status.busy": "2024-12-02T17:02:19.725829Z",
          "iopub.execute_input": "2024-12-02T17:02:19.726329Z",
          "iopub.status.idle": "2024-12-02T17:02:19.750741Z",
          "shell.execute_reply.started": "2024-12-02T17:02:19.726276Z",
          "shell.execute_reply": "2024-12-02T17:02:19.749564Z"
        },
        "id": "4h48aBTMasjP",
        "outputId": "3e87bac5-957d-4476-e9d5-042d27c48eb6",
        "colab": {
          "base_uri": "https://localhost:8080/",
          "height": 489
        }
      },
      "outputs": [
        {
          "output_type": "execute_result",
          "data": {
            "text/plain": [
              "FlowDuration\n",
              "1            55787\n",
              "2            16863\n",
              "48            1698\n",
              "49            1200\n",
              "3             1192\n",
              "             ...  \n",
              "97956302         1\n",
              "119462091        1\n",
              "104240835        1\n",
              "114018730        1\n",
              "5220876          1\n",
              "Name: count, Length: 28168, dtype: int64"
            ],
            "text/html": [
              "<div>\n",
              "<style scoped>\n",
              "    .dataframe tbody tr th:only-of-type {\n",
              "        vertical-align: middle;\n",
              "    }\n",
              "\n",
              "    .dataframe tbody tr th {\n",
              "        vertical-align: top;\n",
              "    }\n",
              "\n",
              "    .dataframe thead th {\n",
              "        text-align: right;\n",
              "    }\n",
              "</style>\n",
              "<table border=\"1\" class=\"dataframe\">\n",
              "  <thead>\n",
              "    <tr style=\"text-align: right;\">\n",
              "      <th></th>\n",
              "      <th>count</th>\n",
              "    </tr>\n",
              "    <tr>\n",
              "      <th>FlowDuration</th>\n",
              "      <th></th>\n",
              "    </tr>\n",
              "  </thead>\n",
              "  <tbody>\n",
              "    <tr>\n",
              "      <th>1</th>\n",
              "      <td>55787</td>\n",
              "    </tr>\n",
              "    <tr>\n",
              "      <th>2</th>\n",
              "      <td>16863</td>\n",
              "    </tr>\n",
              "    <tr>\n",
              "      <th>48</th>\n",
              "      <td>1698</td>\n",
              "    </tr>\n",
              "    <tr>\n",
              "      <th>49</th>\n",
              "      <td>1200</td>\n",
              "    </tr>\n",
              "    <tr>\n",
              "      <th>3</th>\n",
              "      <td>1192</td>\n",
              "    </tr>\n",
              "    <tr>\n",
              "      <th>...</th>\n",
              "      <td>...</td>\n",
              "    </tr>\n",
              "    <tr>\n",
              "      <th>97956302</th>\n",
              "      <td>1</td>\n",
              "    </tr>\n",
              "    <tr>\n",
              "      <th>119462091</th>\n",
              "      <td>1</td>\n",
              "    </tr>\n",
              "    <tr>\n",
              "      <th>104240835</th>\n",
              "      <td>1</td>\n",
              "    </tr>\n",
              "    <tr>\n",
              "      <th>114018730</th>\n",
              "      <td>1</td>\n",
              "    </tr>\n",
              "    <tr>\n",
              "      <th>5220876</th>\n",
              "      <td>1</td>\n",
              "    </tr>\n",
              "  </tbody>\n",
              "</table>\n",
              "<p>28168 rows × 1 columns</p>\n",
              "</div><br><label><b>dtype:</b> int64</label>"
            ]
          },
          "metadata": {},
          "execution_count": 9
        }
      ],
      "execution_count": 9
    },
    {
      "cell_type": "code",
      "source": [
        "df.shape"
      ],
      "metadata": {
        "id": "3lMjdF7dEjOu",
        "outputId": "63adb4ad-8be6-4198-ac55-5295c26759c6",
        "colab": {
          "base_uri": "https://localhost:8080/"
        }
      },
      "execution_count": 14,
      "outputs": [
        {
          "output_type": "execute_result",
          "data": {
            "text/plain": [
              "(130000, 78)"
            ]
          },
          "metadata": {},
          "execution_count": 14
        }
      ]
    },
    {
      "cell_type": "code",
      "source": [
        "print(\"Dataframe\")\n",
        "print(df.Label.value_counts())\n",
        "# print(\"TEST\")\n",
        "# print(df_test.Label.value_counts())"
      ],
      "metadata": {
        "trusted": true,
        "id": "McVY-qAHasjR",
        "outputId": "83e4d532-9edb-4899-83d2-8d0a641d323a",
        "colab": {
          "base_uri": "https://localhost:8080/"
        }
      },
      "outputs": [
        {
          "output_type": "stream",
          "name": "stdout",
          "text": [
            "Dataframe\n",
            "Label\n",
            "Benign     10000\n",
            "LDAP       10000\n",
            "MSSQL      10000\n",
            "NetBIOS    10000\n",
            "Portmap    10000\n",
            "Syn        10000\n",
            "UDP        10000\n",
            "UDPLag     10000\n",
            "DNS        10000\n",
            "TFTP       10000\n",
            "NTP        10000\n",
            "SSDP       10000\n",
            "SNMP       10000\n",
            "Name: count, dtype: int64\n"
          ]
        }
      ],
      "execution_count": 22
    },
    {
      "cell_type": "code",
      "source": [
        "!pip install feature-engine"
      ],
      "metadata": {
        "id": "j3c8YzWANMHM",
        "outputId": "955c0d3c-f21c-4377-cf10-6c177cc2fb51",
        "colab": {
          "base_uri": "https://localhost:8080/"
        }
      },
      "execution_count": 38,
      "outputs": [
        {
          "output_type": "stream",
          "name": "stdout",
          "text": [
            "Collecting feature-engine\n",
            "  Downloading feature_engine-1.8.2-py2.py3-none-any.whl.metadata (9.9 kB)\n",
            "Requirement already satisfied: numpy>=1.18.2 in /usr/local/lib/python3.10/dist-packages (from feature-engine) (1.26.4)\n",
            "Requirement already satisfied: pandas>=2.2.0 in /usr/local/lib/python3.10/dist-packages (from feature-engine) (2.2.2)\n",
            "Requirement already satisfied: scikit-learn>=1.4.0 in /usr/local/lib/python3.10/dist-packages (from feature-engine) (1.5.2)\n",
            "Requirement already satisfied: scipy>=1.4.1 in /usr/local/lib/python3.10/dist-packages (from feature-engine) (1.13.1)\n",
            "Requirement already satisfied: statsmodels>=0.11.1 in /usr/local/lib/python3.10/dist-packages (from feature-engine) (0.14.4)\n",
            "Requirement already satisfied: python-dateutil>=2.8.2 in /usr/local/lib/python3.10/dist-packages (from pandas>=2.2.0->feature-engine) (2.8.2)\n",
            "Requirement already satisfied: pytz>=2020.1 in /usr/local/lib/python3.10/dist-packages (from pandas>=2.2.0->feature-engine) (2024.2)\n",
            "Requirement already satisfied: tzdata>=2022.7 in /usr/local/lib/python3.10/dist-packages (from pandas>=2.2.0->feature-engine) (2024.2)\n",
            "Requirement already satisfied: joblib>=1.2.0 in /usr/local/lib/python3.10/dist-packages (from scikit-learn>=1.4.0->feature-engine) (1.4.2)\n",
            "Requirement already satisfied: threadpoolctl>=3.1.0 in /usr/local/lib/python3.10/dist-packages (from scikit-learn>=1.4.0->feature-engine) (3.5.0)\n",
            "Requirement already satisfied: patsy>=0.5.6 in /usr/local/lib/python3.10/dist-packages (from statsmodels>=0.11.1->feature-engine) (1.0.1)\n",
            "Requirement already satisfied: packaging>=21.3 in /usr/local/lib/python3.10/dist-packages (from statsmodels>=0.11.1->feature-engine) (24.2)\n",
            "Requirement already satisfied: six>=1.5 in /usr/local/lib/python3.10/dist-packages (from python-dateutil>=2.8.2->pandas>=2.2.0->feature-engine) (1.16.0)\n",
            "Downloading feature_engine-1.8.2-py2.py3-none-any.whl (374 kB)\n",
            "\u001b[2K   \u001b[90m━━━━━━━━━━━━━━━━━━━━━━━━━━━━━━━━━━━━━━━━\u001b[0m \u001b[32m375.0/375.0 kB\u001b[0m \u001b[31m13.1 MB/s\u001b[0m eta \u001b[36m0:00:00\u001b[0m\n",
            "\u001b[?25hInstalling collected packages: feature-engine\n",
            "Successfully installed feature-engine-1.8.2\n"
          ]
        }
      ]
    },
    {
      "cell_type": "code",
      "source": [
        "from feature_engine.discretisation import EqualWidthDiscretiser"
      ],
      "metadata": {
        "id": "H01VWbN8NAHd"
      },
      "execution_count": 39,
      "outputs": []
    },
    {
      "cell_type": "code",
      "source": [
        "num_features=df.describe().columns.tolist()"
      ],
      "metadata": {
        "id": "ilY7TgusNaY-"
      },
      "execution_count": 40,
      "outputs": []
    },
    {
      "cell_type": "code",
      "source": [
        "num_features"
      ],
      "metadata": {
        "id": "Tf87S34VOC1j",
        "outputId": "4b89596a-0359-4e22-d482-7bc7d3116adf",
        "colab": {
          "base_uri": "https://localhost:8080/"
        }
      },
      "execution_count": 41,
      "outputs": [
        {
          "output_type": "execute_result",
          "data": {
            "text/plain": [
              "['Protocol',\n",
              " 'FlowDuration',\n",
              " 'TotalFwdPackets',\n",
              " 'TotalBackwardPackets',\n",
              " 'FwdPacketsLengthTotal',\n",
              " 'BwdPacketsLengthTotal',\n",
              " 'FwdPacketLengthMax',\n",
              " 'FwdPacketLengthMin',\n",
              " 'FwdPacketLengthMean',\n",
              " 'FwdPacketLengthStd',\n",
              " 'BwdPacketLengthMax',\n",
              " 'BwdPacketLengthMin',\n",
              " 'BwdPacketLengthMean',\n",
              " 'BwdPacketLengthStd',\n",
              " 'FlowBytes/s',\n",
              " 'FlowPackets/s',\n",
              " 'FlowIATMean',\n",
              " 'FlowIATStd',\n",
              " 'FlowIATMax',\n",
              " 'FlowIATMin',\n",
              " 'FwdIATTotal',\n",
              " 'FwdIATMean',\n",
              " 'FwdIATStd',\n",
              " 'FwdIATMax',\n",
              " 'FwdIATMin',\n",
              " 'BwdIATTotal',\n",
              " 'BwdIATMean',\n",
              " 'BwdIATStd',\n",
              " 'BwdIATMax',\n",
              " 'BwdIATMin',\n",
              " 'FwdPSHFlags',\n",
              " 'BwdPSHFlags',\n",
              " 'FwdURGFlags',\n",
              " 'BwdURGFlags',\n",
              " 'FwdHeaderLength',\n",
              " 'BwdHeaderLength',\n",
              " 'FwdPackets/s',\n",
              " 'BwdPackets/s',\n",
              " 'PacketLengthMin',\n",
              " 'PacketLengthMax',\n",
              " 'PacketLengthMean',\n",
              " 'PacketLengthStd',\n",
              " 'PacketLengthVariance',\n",
              " 'FINFlagCount',\n",
              " 'SYNFlagCount',\n",
              " 'RSTFlagCount',\n",
              " 'PSHFlagCount',\n",
              " 'ACKFlagCount',\n",
              " 'URGFlagCount',\n",
              " 'CWEFlagCount',\n",
              " 'ECEFlagCount',\n",
              " 'Down/UpRatio',\n",
              " 'AvgPacketSize',\n",
              " 'AvgFwdSegmentSize',\n",
              " 'AvgBwdSegmentSize',\n",
              " 'FwdAvgBytes/Bulk',\n",
              " 'FwdAvgPackets/Bulk',\n",
              " 'FwdAvgBulkRate',\n",
              " 'BwdAvgBytes/Bulk',\n",
              " 'BwdAvgPackets/Bulk',\n",
              " 'BwdAvgBulkRate',\n",
              " 'SubflowFwdPackets',\n",
              " 'SubflowFwdBytes',\n",
              " 'SubflowBwdPackets',\n",
              " 'SubflowBwdBytes',\n",
              " 'InitFwdWinBytes',\n",
              " 'InitBwdWinBytes',\n",
              " 'FwdActDataPackets',\n",
              " 'FwdSegSizeMin',\n",
              " 'ActiveMean',\n",
              " 'ActiveStd',\n",
              " 'ActiveMax',\n",
              " 'ActiveMin',\n",
              " 'IdleMean',\n",
              " 'IdleStd',\n",
              " 'IdleMax',\n",
              " 'IdleMin',\n",
              " 'Label']"
            ]
          },
          "metadata": {},
          "execution_count": 41
        }
      ]
    },
    {
      "cell_type": "code",
      "source": [
        "from sklearn.preprocessing import LabelEncoder\n",
        "le=LabelEncoder()\n",
        "df['Label']= le.fit_transform(df['Label'])\n",
        "df['Label'].unique()"
      ],
      "metadata": {
        "trusted": true,
        "id": "CM5EC77DasjR",
        "outputId": "dbef0296-91c5-44df-98a5-961d0b605453",
        "colab": {
          "base_uri": "https://localhost:8080/"
        }
      },
      "outputs": [
        {
          "output_type": "execute_result",
          "data": {
            "text/plain": [
              "array([ 0,  2,  3,  5,  6,  9, 11, 12,  1, 10,  4,  8,  7])"
            ]
          },
          "metadata": {},
          "execution_count": 23
        }
      ],
      "execution_count": 23
    },
    {
      "cell_type": "code",
      "source": [
        "len(df[(df['FlowDuration']>1000)])"
      ],
      "metadata": {
        "trusted": true,
        "colab": {
          "base_uri": "https://localhost:8080/"
        },
        "id": "i9lDBttUasjQ",
        "outputId": "84b55a1c-3346-4d22-b62f-ab2427cd9f66"
      },
      "outputs": [
        {
          "output_type": "execute_result",
          "data": {
            "text/plain": [
              "41816"
            ]
          },
          "metadata": {},
          "execution_count": 15
        }
      ],
      "execution_count": 15
    },
    {
      "cell_type": "code",
      "source": [
        "len(df[(df['FlowDuration']<=1000)])"
      ],
      "metadata": {
        "trusted": true,
        "outputId": "c759552b-e637-4be5-c296-7a1e9ae67b27",
        "colab": {
          "base_uri": "https://localhost:8080/"
        },
        "id": "DALGMAjaFHhZ"
      },
      "outputs": [
        {
          "output_type": "execute_result",
          "data": {
            "text/plain": [
              "88184"
            ]
          },
          "metadata": {},
          "execution_count": 16
        }
      ],
      "execution_count": 16
    },
    {
      "cell_type": "code",
      "source": [
        "41816+88184"
      ],
      "metadata": {
        "id": "WAsohbxcFLdm",
        "outputId": "b72edf6d-fad3-444e-cc48-1696f556ad13",
        "colab": {
          "base_uri": "https://localhost:8080/"
        }
      },
      "execution_count": 17,
      "outputs": [
        {
          "output_type": "execute_result",
          "data": {
            "text/plain": [
              "130000"
            ]
          },
          "metadata": {},
          "execution_count": 17
        }
      ]
    },
    {
      "cell_type": "code",
      "source": [
        "len(df[(df['FlowDuration']>10000)& (df['Label'] == 0) ])"
      ],
      "metadata": {
        "id": "Ekwbjf5UFfj1",
        "outputId": "3ba92ce4-463d-48a4-87f7-3c46cca28510",
        "colab": {
          "base_uri": "https://localhost:8080/"
        }
      },
      "execution_count": 27,
      "outputs": [
        {
          "output_type": "execute_result",
          "data": {
            "text/plain": [
              "7844"
            ]
          },
          "metadata": {},
          "execution_count": 27
        }
      ]
    },
    {
      "cell_type": "markdown",
      "source": [
        "### In this notebook the problem is treated as binary\n",
        "The Label column typically offers the class and for some classes with multiple attacks it labels them individually.\n",
        "In this notebook the first focus is the binary problem so we collapse the class label."
      ],
      "metadata": {
        "id": "pUGvYbdEasjR"
      }
    },
    {
      "cell_type": "code",
      "source": [
        "target = 'Label'"
      ],
      "metadata": {
        "trusted": true,
        "id": "0Va6gQQUasjS"
      },
      "outputs": [],
      "execution_count": 28
    },
    {
      "cell_type": "code",
      "source": [
        "#Input, Target split\n",
        "def xs_y(df_, targ):\n",
        "    if not isinstance(targ, list):\n",
        "        xs = df_[df_.columns.difference([targ])].copy()\n",
        "    else:\n",
        "        xs = df_[df_.columns.difference(targ)].copy()\n",
        "    y = df_[targ].copy()\n",
        "    return xs, y"
      ],
      "metadata": {
        "trusted": true,
        "id": "vUxQXs10asjS"
      },
      "outputs": [],
      "execution_count": 29
    },
    {
      "cell_type": "code",
      "source": [
        "conts = list(df.columns.difference([target]).values)\n",
        "len(conts)"
      ],
      "metadata": {
        "trusted": true,
        "id": "LeeSViPrasjS",
        "outputId": "717abab3-9f71-4269-da46-7ba80d22f18d",
        "colab": {
          "base_uri": "https://localhost:8080/"
        }
      },
      "outputs": [
        {
          "output_type": "execute_result",
          "data": {
            "text/plain": [
              "77"
            ]
          },
          "metadata": {},
          "execution_count": 30
        }
      ],
      "execution_count": 30
    },
    {
      "cell_type": "code",
      "source": [
        "conts"
      ],
      "metadata": {
        "trusted": true,
        "collapsed": true,
        "id": "PQ1skIKKasjS",
        "outputId": "fee1bce2-23c5-4062-98c6-d6192c7e34a1",
        "colab": {
          "base_uri": "https://localhost:8080/"
        }
      },
      "outputs": [
        {
          "output_type": "execute_result",
          "data": {
            "text/plain": [
              "['ACKFlagCount',\n",
              " 'ActiveMax',\n",
              " 'ActiveMean',\n",
              " 'ActiveMin',\n",
              " 'ActiveStd',\n",
              " 'AvgBwdSegmentSize',\n",
              " 'AvgFwdSegmentSize',\n",
              " 'AvgPacketSize',\n",
              " 'BwdAvgBulkRate',\n",
              " 'BwdAvgBytes/Bulk',\n",
              " 'BwdAvgPackets/Bulk',\n",
              " 'BwdHeaderLength',\n",
              " 'BwdIATMax',\n",
              " 'BwdIATMean',\n",
              " 'BwdIATMin',\n",
              " 'BwdIATStd',\n",
              " 'BwdIATTotal',\n",
              " 'BwdPSHFlags',\n",
              " 'BwdPacketLengthMax',\n",
              " 'BwdPacketLengthMean',\n",
              " 'BwdPacketLengthMin',\n",
              " 'BwdPacketLengthStd',\n",
              " 'BwdPackets/s',\n",
              " 'BwdPacketsLengthTotal',\n",
              " 'BwdURGFlags',\n",
              " 'CWEFlagCount',\n",
              " 'Down/UpRatio',\n",
              " 'ECEFlagCount',\n",
              " 'FINFlagCount',\n",
              " 'FlowBytes/s',\n",
              " 'FlowDuration',\n",
              " 'FlowIATMax',\n",
              " 'FlowIATMean',\n",
              " 'FlowIATMin',\n",
              " 'FlowIATStd',\n",
              " 'FlowPackets/s',\n",
              " 'FwdActDataPackets',\n",
              " 'FwdAvgBulkRate',\n",
              " 'FwdAvgBytes/Bulk',\n",
              " 'FwdAvgPackets/Bulk',\n",
              " 'FwdHeaderLength',\n",
              " 'FwdIATMax',\n",
              " 'FwdIATMean',\n",
              " 'FwdIATMin',\n",
              " 'FwdIATStd',\n",
              " 'FwdIATTotal',\n",
              " 'FwdPSHFlags',\n",
              " 'FwdPacketLengthMax',\n",
              " 'FwdPacketLengthMean',\n",
              " 'FwdPacketLengthMin',\n",
              " 'FwdPacketLengthStd',\n",
              " 'FwdPackets/s',\n",
              " 'FwdPacketsLengthTotal',\n",
              " 'FwdSegSizeMin',\n",
              " 'FwdURGFlags',\n",
              " 'IdleMax',\n",
              " 'IdleMean',\n",
              " 'IdleMin',\n",
              " 'IdleStd',\n",
              " 'InitBwdWinBytes',\n",
              " 'InitFwdWinBytes',\n",
              " 'PSHFlagCount',\n",
              " 'PacketLengthMax',\n",
              " 'PacketLengthMean',\n",
              " 'PacketLengthMin',\n",
              " 'PacketLengthStd',\n",
              " 'PacketLengthVariance',\n",
              " 'Protocol',\n",
              " 'RSTFlagCount',\n",
              " 'SYNFlagCount',\n",
              " 'SubflowBwdBytes',\n",
              " 'SubflowBwdPackets',\n",
              " 'SubflowFwdBytes',\n",
              " 'SubflowFwdPackets',\n",
              " 'TotalBackwardPackets',\n",
              " 'TotalFwdPackets',\n",
              " 'URGFlagCount']"
            ]
          },
          "metadata": {},
          "execution_count": 31
        }
      ],
      "execution_count": 31
    },
    {
      "cell_type": "code",
      "source": [
        "X, y = xs_y(df, targ=target)"
      ],
      "metadata": {
        "trusted": true,
        "id": "j__3fF_UasjT"
      },
      "outputs": [],
      "execution_count": 32
    },
    {
      "cell_type": "code",
      "source": [
        "from sklearn.model_selection import train_test_split\n",
        "x_train, x_test, y_train, y_test = train_test_split(X, y, random_state=0)"
      ],
      "metadata": {
        "trusted": true,
        "id": "XTR8fD8dasjT"
      },
      "outputs": [],
      "execution_count": 33
    },
    {
      "cell_type": "code",
      "source": [
        "#x_train,y_train, x_test,y_test\n",
        "len(x_train), len(y_train), len(x_test), len(y_test)"
      ],
      "metadata": {
        "trusted": true,
        "id": "4Bopgh9JasjT",
        "outputId": "b8fd4630-096e-42ea-fbbb-9a3a7163459d",
        "colab": {
          "base_uri": "https://localhost:8080/"
        }
      },
      "outputs": [
        {
          "output_type": "execute_result",
          "data": {
            "text/plain": [
              "(97500, 97500, 32500, 32500)"
            ]
          },
          "metadata": {},
          "execution_count": 34
        }
      ],
      "execution_count": 34
    },
    {
      "cell_type": "code",
      "source": [
        "print(y_train.value_counts())"
      ],
      "metadata": {
        "trusted": true,
        "id": "SSxSL6i0asjT",
        "outputId": "9685773d-59a2-4cfa-dcb9-69b06eb3714a",
        "colab": {
          "base_uri": "https://localhost:8080/"
        }
      },
      "outputs": [
        {
          "output_type": "stream",
          "name": "stdout",
          "text": [
            "Label\n",
            "3     7615\n",
            "9     7566\n",
            "12    7530\n",
            "2     7518\n",
            "5     7498\n",
            "0     7491\n",
            "6     7481\n",
            "10    7480\n",
            "8     7480\n",
            "7     7480\n",
            "4     7477\n",
            "1     7469\n",
            "11    7415\n",
            "Name: count, dtype: int64\n"
          ]
        }
      ],
      "execution_count": 36
    },
    {
      "cell_type": "code",
      "source": [
        "print(y_test.value_counts())"
      ],
      "metadata": {
        "trusted": true,
        "id": "7mBM_6HrasjT",
        "outputId": "5fbc5b40-5c61-40e2-ca10-d150cb8a010d",
        "colab": {
          "base_uri": "https://localhost:8080/"
        }
      },
      "outputs": [
        {
          "output_type": "stream",
          "name": "stdout",
          "text": [
            "Label\n",
            "11    2585\n",
            "1     2531\n",
            "4     2523\n",
            "8     2520\n",
            "7     2520\n",
            "10    2520\n",
            "6     2519\n",
            "0     2509\n",
            "5     2502\n",
            "2     2482\n",
            "12    2470\n",
            "9     2434\n",
            "3     2385\n",
            "Name: count, dtype: int64\n"
          ]
        }
      ],
      "execution_count": 35
    },
    {
      "cell_type": "markdown",
      "source": [
        "## Ensemble OneR: 0.991 ROC_AUC score, almost perfect\n",
        "The simplest extension is the average OneR model.\n",
        "\n",
        "1. It takes all the features which actually have predictive power\n",
        "2. It uses those single-feature models to predict all samples\n",
        "3. The new predicted output class for a sample is the average (here unweighted) of the predicted output classes from each of the OneR models.\n",
        "\n",
        "If the metric accepts scores or probabilities then you can pass them directly (which is the case for roc_auc)."
      ],
      "metadata": {
        "id": "L2XLvuQsasjT"
      }
    },
    {
      "cell_type": "code",
      "source": [
        "def roc_auc_score_multiclass(feature, metric=roc_auc_score, average=None, multi_class=\"ovr\"):\n",
        "    rootnode = DecisionTreeClassifier(max_depth=1, criterion='gini')\n",
        "    rootnode.fit(x_train[feature].array.reshape(-1,1), y_train)\n",
        "    pred_tr = rootnode.predict(x_train[feature].array.reshape(-1,1))\n",
        "    pred_ts = rootnode.predict(x_test[feature].array.reshape(-1,1))\n",
        "    # met = round(metric(y_train, pred_tr), 4)\n",
        "    # if met > 0.5:\n",
        "    #     return [feature, met, rootnode, pred_tr, pred_ts]\n",
        "    # else:\n",
        "    #     return [feature, met, None, [], []]\n",
        "\n",
        "    #creating a set of all the unique classes using the actual class list\n",
        "    unique_class = set(y_train)\n",
        "    roc_auc_dict = {}\n",
        "    for per_class in unique_class:\n",
        "      #creating a list of all the classes except the current class\n",
        "      other_class = [x for x in unique_class if x != per_class]\n",
        "\n",
        "      #marking the current class as 1 and all other classes as 0\n",
        "      new_actual_class = [0 if x in other_class else 1 for x in y_train]\n",
        "      new_pred_class = [0 if x in other_class else 1 for x in pred_tr]\n",
        "\n",
        "      #using the sklearn metrics method to calculate the roc_auc_score\n",
        "      roc_auc =  round(metric(new_actual_class, new_pred_class, average=None, multi_class=\"ovr\"), 7)\n",
        "    return [feature, roc_auc, rootnode, pred_tr, pred_ts]"
      ],
      "metadata": {
        "trusted": true,
        "id": "-bOoW1VxasjT"
      },
      "outputs": [],
      "execution_count": null
    },
    {
      "cell_type": "code",
      "source": [
        "import os\n",
        "results = parallel(f=roc_auc_score_multiclass,items=conts, n_workers=os.cpu_count(), threadpool=False, progress=True)"
      ],
      "metadata": {
        "trusted": true,
        "id": "CS8GiL8HasjU"
      },
      "outputs": [],
      "execution_count": null
    },
    {
      "cell_type": "code",
      "source": [
        "result_df = pd.DataFrame(data=results, columns=['feature', 'roc_auc_score', 'fitted_models', 'pred_tr', 'pred_ts']).sort_values(by='roc_auc_score', ascending=False)"
      ],
      "metadata": {
        "trusted": true,
        "id": "hNvTTYKOasjU"
      },
      "outputs": [],
      "execution_count": null
    },
    {
      "cell_type": "code",
      "source": [
        "result_df"
      ],
      "metadata": {
        "trusted": true,
        "id": "EiO0EhkiasjU"
      },
      "outputs": [],
      "execution_count": null
    },
    {
      "cell_type": "code",
      "source": [
        "result_df[['feature', 'roc_auc_score']].head(48)"
      ],
      "metadata": {
        "trusted": true,
        "id": "Q9CRFzeTasjU"
      },
      "outputs": [],
      "execution_count": null
    },
    {
      "cell_type": "code",
      "source": [
        "useful_features = result_df.loc[result_df['roc_auc_score'] > 0.49]\n",
        "print(f\"{len(useful_features)} / {len(conts)} features have separating power\")"
      ],
      "metadata": {
        "trusted": true,
        "id": "w5rCm7OdasjU"
      },
      "outputs": [],
      "execution_count": null
    },
    {
      "cell_type": "code",
      "source": [
        "useful_features"
      ],
      "metadata": {
        "trusted": true,
        "id": "5Qm9EPewasjU"
      },
      "outputs": [],
      "execution_count": null
    },
    {
      "cell_type": "code",
      "source": [
        "x=np.vstack(useful_features['pred_tr'].to_numpy())\n",
        "x,x.shape"
      ],
      "metadata": {
        "trusted": true,
        "id": "tj3rtSw_asjU"
      },
      "outputs": [],
      "execution_count": null
    },
    {
      "cell_type": "code",
      "source": [
        "y=np.vstack(result_df['pred_ts'].to_numpy())\n",
        "y,y.shape"
      ],
      "metadata": {
        "trusted": true,
        "id": "ZVNPPDZ7asjU"
      },
      "outputs": [],
      "execution_count": null
    },
    {
      "cell_type": "code",
      "source": [
        "ensemble_pred_tr = np.mean(np.vstack(useful_features['pred_tr'].to_numpy()), axis=0)\n",
        "ensemble_pred_tr.shape"
      ],
      "metadata": {
        "trusted": true,
        "id": "kTOwmaXuasjU"
      },
      "outputs": [],
      "execution_count": null
    },
    {
      "cell_type": "code",
      "source": [
        "np.vstack(useful_features['pred_tr'][0]), np.vstack(useful_features['pred_tr'][0]).shape"
      ],
      "metadata": {
        "trusted": true,
        "id": "nz2CVobQasjV"
      },
      "outputs": [],
      "execution_count": null
    },
    {
      "cell_type": "code",
      "source": [],
      "metadata": {
        "trusted": true,
        "id": "X8MBNDk9asjV"
      },
      "outputs": [],
      "execution_count": null
    },
    {
      "cell_type": "code",
      "source": [
        "np.vstack(useful_features['pred_tr']), np.vstack(useful_features['pred_tr']).shape"
      ],
      "metadata": {
        "trusted": true,
        "id": "zijZqGSKasjV"
      },
      "outputs": [],
      "execution_count": null
    },
    {
      "cell_type": "code",
      "source": [
        "matrix=[np.vstack(useful_features['pred_tr'])]\n",
        "matrix"
      ],
      "metadata": {
        "trusted": true,
        "id": "7GivXpX4asjV"
      },
      "outputs": [],
      "execution_count": null
    },
    {
      "cell_type": "code",
      "source": [
        "mt = [list(row) for row in zip(*matrix)]\n",
        "mt"
      ],
      "metadata": {
        "trusted": true,
        "id": "8o1hVLcaasjV"
      },
      "outputs": [],
      "execution_count": null
    },
    {
      "cell_type": "code",
      "source": [
        "np.bincount(np.vstack(useful_features['pred_tr'].to_numpy()))"
      ],
      "metadata": {
        "trusted": true,
        "id": "-9GD3YdWasjY"
      },
      "outputs": [],
      "execution_count": null
    },
    {
      "cell_type": "code",
      "source": [
        "matrix = [[1, 1, 1, 1],\n",
        "\t\t[2, 2, 2, 2],\n",
        "\t\t[3, 3, 3, 3],\n",
        "\t\t[4, 4, 4, 4]]\n",
        "type(matrix)\n",
        "# matrix[1]"
      ],
      "metadata": {
        "trusted": true,
        "id": "ehjEyREdasjZ"
      },
      "outputs": [],
      "execution_count": null
    },
    {
      "cell_type": "code",
      "source": [
        "transpose = [list(row) for row in zip(*matrix)]\n",
        "\n",
        "print(\"Original Matrix:\")\n",
        "for row in matrix:\n",
        "\tprint(row)\n",
        "\n",
        "print(\"Transposed Matrix:\")\n",
        "for row in transpose:\n",
        "\tprint(row)"
      ],
      "metadata": {
        "trusted": true,
        "id": "w19AnoAEasjZ"
      },
      "outputs": [],
      "execution_count": null
    },
    {
      "cell_type": "code",
      "source": [
        "ensemble_pred_tr = np.bincount(mt).argmax()\n",
        "ensemble_pred_tr, ensemble_pred_tr.shape"
      ],
      "metadata": {
        "trusted": true,
        "id": "kzvbnRJtasjZ"
      },
      "outputs": [],
      "execution_count": null
    },
    {
      "cell_type": "code",
      "source": [
        "uftr=np.vstack(useful_features['pred_tr'])"
      ],
      "metadata": {
        "trusted": true,
        "id": "K-86HF4XasjZ"
      },
      "outputs": [],
      "execution_count": null
    },
    {
      "cell_type": "code",
      "source": [
        "uftr, uftr.shape"
      ],
      "metadata": {
        "trusted": true,
        "id": "MsQ7H4wkasjZ"
      },
      "outputs": [],
      "execution_count": null
    },
    {
      "cell_type": "code",
      "source": [
        "uftr.shape"
      ],
      "metadata": {
        "trusted": true,
        "id": "4tfNwlxEasjZ"
      },
      "outputs": [],
      "execution_count": null
    },
    {
      "cell_type": "code",
      "source": [
        "uftr[0].shape"
      ],
      "metadata": {
        "trusted": true,
        "id": "CMDewpKIasjZ"
      },
      "outputs": [],
      "execution_count": null
    },
    {
      "cell_type": "code",
      "source": [
        "ensemble_pred_tr = np.bincount(uftr).argmax()\n",
        "ensemble_pred_tr, ensemble_pred_tr.shape"
      ],
      "metadata": {
        "trusted": true,
        "id": "yF-1L2r1asjZ"
      },
      "outputs": [],
      "execution_count": null
    },
    {
      "cell_type": "code",
      "source": [
        "x=np.vstack(result_df['pred_ts'].to_numpy())\n",
        "x,x.shape"
      ],
      "metadata": {
        "trusted": true,
        "id": "hSB1WBlBasjZ"
      },
      "outputs": [],
      "execution_count": null
    },
    {
      "cell_type": "code",
      "source": [
        "useful_features['pred_tr'],useful_features['pred_tr'].shape"
      ],
      "metadata": {
        "trusted": true,
        "id": "P99qmDaxasja"
      },
      "outputs": [],
      "execution_count": null
    },
    {
      "cell_type": "code",
      "source": [
        "useful_features['pred_tr'][0],useful_features['pred_tr'][0].shape"
      ],
      "metadata": {
        "trusted": true,
        "id": "YPN63sVMasja"
      },
      "outputs": [],
      "execution_count": null
    },
    {
      "cell_type": "code",
      "source": [
        " np.bincount(np.vstack(useful_features['pred_tr'][0].to_numpy()))"
      ],
      "metadata": {
        "trusted": true,
        "id": "OxnIrDgOasja"
      },
      "outputs": [],
      "execution_count": null
    },
    {
      "cell_type": "code",
      "source": [
        "ar"
      ],
      "metadata": {
        "trusted": true,
        "id": "le_fYhfhasja"
      },
      "outputs": [],
      "execution_count": null
    },
    {
      "cell_type": "code",
      "source": [
        "ar[0]\n",
        "ar.shape"
      ],
      "metadata": {
        "trusted": true,
        "id": "7r_Cr780asja"
      },
      "outputs": [],
      "execution_count": null
    },
    {
      "cell_type": "code",
      "source": [
        "ar[0],ar[0].shape"
      ],
      "metadata": {
        "trusted": true,
        "id": "Pt0gvO4dasja"
      },
      "outputs": [],
      "execution_count": null
    },
    {
      "cell_type": "code",
      "source": [
        "np.bincount(ar[0]).argmax()"
      ],
      "metadata": {
        "trusted": true,
        "id": "yBI0YJelasja"
      },
      "outputs": [],
      "execution_count": null
    },
    {
      "cell_type": "code",
      "source": [
        "ensemble_pred_tr = np.bincount(ar).argmax()\n",
        "ensemble_pred_tr.shape"
      ],
      "metadata": {
        "trusted": true,
        "id": "dEAbFbKsasja"
      },
      "outputs": [],
      "execution_count": null
    },
    {
      "cell_type": "code",
      "source": [
        "result_df['pred_ts'].to_numpy()"
      ],
      "metadata": {
        "trusted": true,
        "id": "LtCgyzm5asja"
      },
      "outputs": [],
      "execution_count": null
    },
    {
      "cell_type": "code",
      "source": [
        "l=len(result_df['pred_ts'])\n",
        "l"
      ],
      "metadata": {
        "trusted": true,
        "id": "666825dzasjb"
      },
      "outputs": [],
      "execution_count": null
    },
    {
      "cell_type": "code",
      "source": [
        "result_df['pred_ts']"
      ],
      "metadata": {
        "trusted": true,
        "id": "6C5AH7nsasjb"
      },
      "outputs": [],
      "execution_count": null
    },
    {
      "cell_type": "code",
      "source": [
        "ar=np.vstack(result_df['pred_tr'])\n",
        "l=len(ar)\n",
        "l"
      ],
      "metadata": {
        "trusted": true,
        "id": "GZjk3kjxasjb"
      },
      "outputs": [],
      "execution_count": null
    },
    {
      "cell_type": "code",
      "source": [
        "ensemble_pred_tr=list(np.bincount(ar).argmax())\n",
        "ensemble_pred_tr"
      ],
      "metadata": {
        "trusted": true,
        "id": "d1IPAsxGasjb"
      },
      "outputs": [],
      "execution_count": null
    },
    {
      "cell_type": "code",
      "source": [
        "ar=np.vstack(useful_features['pred_tr'])\n",
        "ar[0].shape,ar["
      ],
      "metadata": {
        "trusted": true,
        "id": "rSHrfj36asjb"
      },
      "outputs": [],
      "execution_count": null
    },
    {
      "cell_type": "code",
      "source": [
        "ept=list()\n",
        "ept=np.bincount(ar).argmax()\n",
        "ept"
      ],
      "metadata": {
        "trusted": true,
        "id": "c2CRXBVZasjb"
      },
      "outputs": [],
      "execution_count": null
    },
    {
      "cell_type": "code",
      "source": [
        "ept=list()\n",
        "ept=np.bincount(mt).argmax()\n",
        "ept"
      ],
      "metadata": {
        "trusted": true,
        "id": "h0nB6-mSasjb"
      },
      "outputs": [],
      "execution_count": null
    },
    {
      "cell_type": "code",
      "source": [
        "for row in mt:\n",
        "    ept[i] = np.bincount(mt[row]).argmax()\n",
        "    # ensemble_pred_tr[i]=np.bincount(result_df['pred_tr'][i]).argmax()\n",
        "    print(ept[i])"
      ],
      "metadata": {
        "trusted": true,
        "id": "Y0ct1OuEasjb"
      },
      "outputs": [],
      "execution_count": null
    },
    {
      "cell_type": "code",
      "source": [
        "ensemble_pred_tr=list(l)\n",
        "def cal_ensemble_pred_tr(ar):\n",
        "    for i in range(l):\n",
        "        ensemble_pred_tr[np.bincount(ar[i]).argmax()]\n",
        "        print(ensemble_pred_tr[i])\n",
        "cal_ensemble_pred_tr(ar)"
      ],
      "metadata": {
        "trusted": true,
        "id": "nmf5vSOKasjc"
      },
      "outputs": [],
      "execution_count": null
    },
    {
      "cell_type": "code",
      "source": [
        "df.head(10)"
      ],
      "metadata": {
        "trusted": true,
        "execution": {
          "iopub.status.busy": "2024-12-02T17:02:19.65099Z",
          "iopub.execute_input": "2024-12-02T17:02:19.651355Z",
          "iopub.status.idle": "2024-12-02T17:02:19.69546Z",
          "shell.execute_reply.started": "2024-12-02T17:02:19.651321Z",
          "shell.execute_reply": "2024-12-02T17:02:19.694261Z"
        },
        "id": "V9xbVue3asjO",
        "outputId": "a26fe973-86a9-46f5-9bc2-e0698a5c2c7a"
      },
      "outputs": [
        {
          "execution_count": 3,
          "output_type": "execute_result",
          "data": {
            "text/plain": "   Protocol  Flow Duration  Total Fwd Packets  Total Backward Packets  \\\n0        17       40694755                  5                       0   \n1         0      113871580                 52                       0   \n2         0      112936309                 39                       0   \n3         6       24944828                  8                       6   \n4        17          20779                  2                       2   \n5         6      118074966                 36                      48   \n6        17          20568                  2                       2   \n7        17          65675                  2                       2   \n8        17          20684                  2                       2   \n9         6          90699                  4                       2   \n\n   Fwd Packets Length Total  Bwd Packets Length Total  Fwd Packet Length Max  \\\n0                      1500                         0                    300   \n1                         0                         0                      0   \n2                         0                         0                      0   \n3                        37                         0                     31   \n4                        86                       366                     43   \n5                      2474                     67854                    517   \n6                        86                       118                     43   \n7                        86                       118                     43   \n8                        86                       198                     43   \n9                        62                        70                     31   \n\n   Fwd Packet Length Min  Fwd Packet Length Mean  Fwd Packet Length Std  ...  \\\n0                    300               300.00000               0.000000  ...   \n1                      0                 0.00000               0.000000  ...   \n2                      0                 0.00000               0.000000  ...   \n3                      0                 4.62500              10.662852  ...   \n4                     43                43.00000               0.000000  ...   \n5                      0                68.72222             134.701700  ...   \n6                     43                43.00000               0.000000  ...   \n7                     43                43.00000               0.000000  ...   \n8                     43                43.00000               0.000000  ...   \n9                      0                15.50000              17.897858  ...   \n\n   Fwd Seg Size Min   Active Mean    Active Std  Active Max  Active Min  \\\n0       -1062718975      0.000000      0.000000           0           0   \n1                 0      6.083334      0.668558           7           5   \n2                 0      4.916666      0.514929           6           4   \n3                20  20876.000000    313.955400       21098       20654   \n4                 0      0.000000      0.000000           0           0   \n5                20  88838.000000  15440.384000       99756       77920   \n6                32      0.000000      0.000000           0           0   \n7                32      0.000000      0.000000           0           0   \n8                20      0.000000      0.000000           0           0   \n9                20      0.000000      0.000000           0           0   \n\n    Idle Mean      Idle Std  Idle Max  Idle Min   Label  \n0  10173689.0  3.593932e+06  14671724   6369775  Benign  \n1   9489292.0  2.133550e+05   9806952   9169328  Benign  \n2   9411354.0  2.927876e+05   9869393   9048974  Benign  \n3  10009953.0  3.139554e+02  10010175  10009731  Benign  \n4         0.0  0.000000e+00         0         0  Benign  \n5  58909704.0  2.302835e+04  58925988  58893420  Benign  \n6         0.0  0.000000e+00         0         0  Benign  \n7         0.0  0.000000e+00         0         0  Benign  \n8         0.0  0.000000e+00         0         0  Benign  \n9         0.0  0.000000e+00         0         0  Benign  \n\n[10 rows x 78 columns]",
            "text/html": "<div>\n<style scoped>\n    .dataframe tbody tr th:only-of-type {\n        vertical-align: middle;\n    }\n\n    .dataframe tbody tr th {\n        vertical-align: top;\n    }\n\n    .dataframe thead th {\n        text-align: right;\n    }\n</style>\n<table border=\"1\" class=\"dataframe\">\n  <thead>\n    <tr style=\"text-align: right;\">\n      <th></th>\n      <th>Protocol</th>\n      <th>Flow Duration</th>\n      <th>Total Fwd Packets</th>\n      <th>Total Backward Packets</th>\n      <th>Fwd Packets Length Total</th>\n      <th>Bwd Packets Length Total</th>\n      <th>Fwd Packet Length Max</th>\n      <th>Fwd Packet Length Min</th>\n      <th>Fwd Packet Length Mean</th>\n      <th>Fwd Packet Length Std</th>\n      <th>...</th>\n      <th>Fwd Seg Size Min</th>\n      <th>Active Mean</th>\n      <th>Active Std</th>\n      <th>Active Max</th>\n      <th>Active Min</th>\n      <th>Idle Mean</th>\n      <th>Idle Std</th>\n      <th>Idle Max</th>\n      <th>Idle Min</th>\n      <th>Label</th>\n    </tr>\n  </thead>\n  <tbody>\n    <tr>\n      <th>0</th>\n      <td>17</td>\n      <td>40694755</td>\n      <td>5</td>\n      <td>0</td>\n      <td>1500</td>\n      <td>0</td>\n      <td>300</td>\n      <td>300</td>\n      <td>300.00000</td>\n      <td>0.000000</td>\n      <td>...</td>\n      <td>-1062718975</td>\n      <td>0.000000</td>\n      <td>0.000000</td>\n      <td>0</td>\n      <td>0</td>\n      <td>10173689.0</td>\n      <td>3.593932e+06</td>\n      <td>14671724</td>\n      <td>6369775</td>\n      <td>Benign</td>\n    </tr>\n    <tr>\n      <th>1</th>\n      <td>0</td>\n      <td>113871580</td>\n      <td>52</td>\n      <td>0</td>\n      <td>0</td>\n      <td>0</td>\n      <td>0</td>\n      <td>0</td>\n      <td>0.00000</td>\n      <td>0.000000</td>\n      <td>...</td>\n      <td>0</td>\n      <td>6.083334</td>\n      <td>0.668558</td>\n      <td>7</td>\n      <td>5</td>\n      <td>9489292.0</td>\n      <td>2.133550e+05</td>\n      <td>9806952</td>\n      <td>9169328</td>\n      <td>Benign</td>\n    </tr>\n    <tr>\n      <th>2</th>\n      <td>0</td>\n      <td>112936309</td>\n      <td>39</td>\n      <td>0</td>\n      <td>0</td>\n      <td>0</td>\n      <td>0</td>\n      <td>0</td>\n      <td>0.00000</td>\n      <td>0.000000</td>\n      <td>...</td>\n      <td>0</td>\n      <td>4.916666</td>\n      <td>0.514929</td>\n      <td>6</td>\n      <td>4</td>\n      <td>9411354.0</td>\n      <td>2.927876e+05</td>\n      <td>9869393</td>\n      <td>9048974</td>\n      <td>Benign</td>\n    </tr>\n    <tr>\n      <th>3</th>\n      <td>6</td>\n      <td>24944828</td>\n      <td>8</td>\n      <td>6</td>\n      <td>37</td>\n      <td>0</td>\n      <td>31</td>\n      <td>0</td>\n      <td>4.62500</td>\n      <td>10.662852</td>\n      <td>...</td>\n      <td>20</td>\n      <td>20876.000000</td>\n      <td>313.955400</td>\n      <td>21098</td>\n      <td>20654</td>\n      <td>10009953.0</td>\n      <td>3.139554e+02</td>\n      <td>10010175</td>\n      <td>10009731</td>\n      <td>Benign</td>\n    </tr>\n    <tr>\n      <th>4</th>\n      <td>17</td>\n      <td>20779</td>\n      <td>2</td>\n      <td>2</td>\n      <td>86</td>\n      <td>366</td>\n      <td>43</td>\n      <td>43</td>\n      <td>43.00000</td>\n      <td>0.000000</td>\n      <td>...</td>\n      <td>0</td>\n      <td>0.000000</td>\n      <td>0.000000</td>\n      <td>0</td>\n      <td>0</td>\n      <td>0.0</td>\n      <td>0.000000e+00</td>\n      <td>0</td>\n      <td>0</td>\n      <td>Benign</td>\n    </tr>\n    <tr>\n      <th>5</th>\n      <td>6</td>\n      <td>118074966</td>\n      <td>36</td>\n      <td>48</td>\n      <td>2474</td>\n      <td>67854</td>\n      <td>517</td>\n      <td>0</td>\n      <td>68.72222</td>\n      <td>134.701700</td>\n      <td>...</td>\n      <td>20</td>\n      <td>88838.000000</td>\n      <td>15440.384000</td>\n      <td>99756</td>\n      <td>77920</td>\n      <td>58909704.0</td>\n      <td>2.302835e+04</td>\n      <td>58925988</td>\n      <td>58893420</td>\n      <td>Benign</td>\n    </tr>\n    <tr>\n      <th>6</th>\n      <td>17</td>\n      <td>20568</td>\n      <td>2</td>\n      <td>2</td>\n      <td>86</td>\n      <td>118</td>\n      <td>43</td>\n      <td>43</td>\n      <td>43.00000</td>\n      <td>0.000000</td>\n      <td>...</td>\n      <td>32</td>\n      <td>0.000000</td>\n      <td>0.000000</td>\n      <td>0</td>\n      <td>0</td>\n      <td>0.0</td>\n      <td>0.000000e+00</td>\n      <td>0</td>\n      <td>0</td>\n      <td>Benign</td>\n    </tr>\n    <tr>\n      <th>7</th>\n      <td>17</td>\n      <td>65675</td>\n      <td>2</td>\n      <td>2</td>\n      <td>86</td>\n      <td>118</td>\n      <td>43</td>\n      <td>43</td>\n      <td>43.00000</td>\n      <td>0.000000</td>\n      <td>...</td>\n      <td>32</td>\n      <td>0.000000</td>\n      <td>0.000000</td>\n      <td>0</td>\n      <td>0</td>\n      <td>0.0</td>\n      <td>0.000000e+00</td>\n      <td>0</td>\n      <td>0</td>\n      <td>Benign</td>\n    </tr>\n    <tr>\n      <th>8</th>\n      <td>17</td>\n      <td>20684</td>\n      <td>2</td>\n      <td>2</td>\n      <td>86</td>\n      <td>198</td>\n      <td>43</td>\n      <td>43</td>\n      <td>43.00000</td>\n      <td>0.000000</td>\n      <td>...</td>\n      <td>20</td>\n      <td>0.000000</td>\n      <td>0.000000</td>\n      <td>0</td>\n      <td>0</td>\n      <td>0.0</td>\n      <td>0.000000e+00</td>\n      <td>0</td>\n      <td>0</td>\n      <td>Benign</td>\n    </tr>\n    <tr>\n      <th>9</th>\n      <td>6</td>\n      <td>90699</td>\n      <td>4</td>\n      <td>2</td>\n      <td>62</td>\n      <td>70</td>\n      <td>31</td>\n      <td>0</td>\n      <td>15.50000</td>\n      <td>17.897858</td>\n      <td>...</td>\n      <td>20</td>\n      <td>0.000000</td>\n      <td>0.000000</td>\n      <td>0</td>\n      <td>0</td>\n      <td>0.0</td>\n      <td>0.000000e+00</td>\n      <td>0</td>\n      <td>0</td>\n      <td>Benign</td>\n    </tr>\n  </tbody>\n</table>\n<p>10 rows × 78 columns</p>\n</div>"
          },
          "metadata": {}
        }
      ],
      "execution_count": null
    },
    {
      "cell_type": "code",
      "source": [
        "result_df['pred_ts'][0].shape"
      ],
      "metadata": {
        "trusted": true,
        "id": "1Sboz4i-asjc"
      },
      "outputs": [],
      "execution_count": null
    },
    {
      "cell_type": "code",
      "source": [
        "ensemble_pred_ts = np.mean(np.vstack(result_df['pred_ts'].to_numpy()), axis=0)\n",
        "ensemble_pred_ts.shape"
      ],
      "metadata": {
        "trusted": true,
        "id": "pHL6idbYasjc"
      },
      "outputs": [],
      "execution_count": null
    },
    {
      "cell_type": "code",
      "source": [
        "ensemble_pred_tr = np.mean(np.vstack(useful_features['pred_tr'].to_numpy()), axis=0)\n",
        "ensemble_pred_tr.shape"
      ],
      "metadata": {
        "trusted": true,
        "id": "fFxWpi8Qasjc"
      },
      "outputs": [],
      "execution_count": null
    },
    {
      "cell_type": "code",
      "source": [
        "ensemble_pred_ts = np.mean(np.vstack(useful_features['pred_ts'].to_numpy()), axis=0)\n",
        "ensemble_pred_ts.shape"
      ],
      "metadata": {
        "trusted": true,
        "id": "KTeNPv25asjc"
      },
      "outputs": [],
      "execution_count": null
    },
    {
      "cell_type": "code",
      "source": [
        "ensemble_pred_ts"
      ],
      "metadata": {
        "trusted": true,
        "id": "7VIUDhwLasjc"
      },
      "outputs": [],
      "execution_count": null
    },
    {
      "cell_type": "code",
      "source": [
        "fpr, tpr, thresholds = roc_curve(y_train, ensemble_pred_tr)\n",
        "# get the best threshold\n",
        "J = tpr - fpr\n",
        "ix = np.argmax(J)\n",
        "best_thresh = thresholds[ix]\n",
        "print(\"Best threshold\", best_thresh)"
      ],
      "metadata": {
        "trusted": true,
        "id": "vhTWeAN-asjc"
      },
      "outputs": [],
      "execution_count": null
    },
    {
      "cell_type": "code",
      "source": [
        "print(\"The Ensemble OneR model (simple average)\")\n",
        "print(\"ROC-AUC\", round(roc_auc_score(y_true=y_train, y_score=ensemble_pred_tr),4))\n",
        "print(\"Precision\", round(precision_score(y_true=y_train, y_pred=np.where(ensemble_pred_tr >= best_thresh, 1, 0)), 4))\n",
        "print(\"Recall\", round(recall_score(y_true=y_train, y_pred=np.where(ensemble_pred_tr >= best_thresh, 1, 0)), 4))\n",
        "print(\"F1\", round(f1_score(y_true=y_train, y_pred=np.where(ensemble_pred_tr >= best_thresh, 1, 0)), 4))"
      ],
      "metadata": {
        "trusted": true,
        "id": "XdmzH1hEasjc"
      },
      "outputs": [],
      "execution_count": null
    },
    {
      "cell_type": "code",
      "source": [
        "fpr, tpr, thresholds = roc_curve(y_test, ensemble_pred_ts)\n",
        "# get the best threshold\n",
        "J = tpr - fpr\n",
        "ix = np.argmax(J)\n",
        "ts_best_thresh = thresholds[ix]\n",
        "print(\"Best threshold\", ts_best_thresh)"
      ],
      "metadata": {
        "trusted": true,
        "id": "pctqySj4asjd"
      },
      "outputs": [],
      "execution_count": null
    },
    {
      "cell_type": "code",
      "source": [
        "print(\"The Ensemble OneR model (simple average)\")\n",
        "print(\"ROC-AUC\", round(roc_auc_score(y_true=y_test, y_score=ensemble_pred_ts),4))\n",
        "print(\"Precision\", round(precision_score(y_true=y_test, y_pred=np.where(ensemble_pred_ts >= ts_best_thresh, 1, 0)), 4))\n",
        "print(\"Recall\", round(recall_score(y_true=y_test, y_pred=np.where(ensemble_pred_ts >= ts_best_thresh, 1, 0)), 4))\n",
        "print(\"F1\", round(f1_score(y_true=y_test, y_pred=np.where(ensemble_pred_ts >= ts_best_thresh, 1, 0)), 4))"
      ],
      "metadata": {
        "trusted": true,
        "id": "k6KxBTsZasjd"
      },
      "outputs": [],
      "execution_count": null
    },
    {
      "cell_type": "code",
      "source": [
        "import seaborn as sns\n",
        "import matplotlib.pyplot as plt"
      ],
      "metadata": {
        "trusted": true,
        "id": "Eh_G1GzWasjd"
      },
      "outputs": [],
      "execution_count": null
    },
    {
      "cell_type": "code",
      "source": [
        "fig, axes = plt.subplots(5,3, figsize=(15,15))\n",
        "axes = axes.flatten()\n",
        "for i, tf in enumerate(result_df['feature'].head(48)):\n",
        "    sns.histplot(data=df, x=tf, stat='percent', hue='Label', bins=100, log_scale=(False, True), ax=axes[i])"
      ],
      "metadata": {
        "trusted": true,
        "id": "LVqZeA6Pasjd"
      },
      "outputs": [],
      "execution_count": null
    },
    {
      "cell_type": "code",
      "source": [
        "bin_pred_tr=np.where(ensemble_pred_tr >= best_thresh, 1, 0)"
      ],
      "metadata": {
        "trusted": true,
        "id": "Ma64WH46asjd"
      },
      "outputs": [],
      "execution_count": null
    },
    {
      "cell_type": "code",
      "source": [
        "bin_pred_ts=np.where(ensemble_pred_ts >= ts_best_thresh, 1, 0)"
      ],
      "metadata": {
        "trusted": true,
        "id": "BCpuSiI7asjd"
      },
      "outputs": [],
      "execution_count": null
    },
    {
      "cell_type": "code",
      "source": [
        "Final_Result_tr=df.assign(bin_pred_tr=bin_pred_tr)"
      ],
      "metadata": {
        "trusted": true,
        "id": "m_qom8fUasjd"
      },
      "outputs": [],
      "execution_count": null
    },
    {
      "cell_type": "code",
      "source": [
        "Final_Result_ts=df_test.assign(bin_pred_ts=bin_pred_ts)"
      ],
      "metadata": {
        "trusted": true,
        "id": "vASRarB8asjd"
      },
      "outputs": [],
      "execution_count": null
    },
    {
      "cell_type": "code",
      "source": [
        "Final_Result_ts"
      ],
      "metadata": {
        "trusted": true,
        "id": "_gV0pBQ6asje"
      },
      "outputs": [],
      "execution_count": null
    },
    {
      "cell_type": "code",
      "source": [
        "Final_Result_tr.to_csv('CIC-DDoS2019trBin.csv')"
      ],
      "metadata": {
        "trusted": true,
        "id": "2UOgKYAdasje"
      },
      "outputs": [],
      "execution_count": null
    },
    {
      "cell_type": "code",
      "source": [
        "Final_Result_ts.to_csv('CIC-DDoS2019tsBin.csv')"
      ],
      "metadata": {
        "trusted": true,
        "id": "bgBUl8w0asje"
      },
      "outputs": [],
      "execution_count": null
    },
    {
      "cell_type": "code",
      "source": [
        "def evaluate_one_feature(feature, index='', metric=roc_auc_score,average=None, multi_class=\"ovr\"):\n",
        "    rootnode = DecisionTreeClassifier(max_depth=1, criterion='gini')\n",
        "    rootnode.fit(x_train[feature].array.reshape(-1,1), y_train)\n",
        "    pred_tr = rootnode.predict(x_train[feature].array.reshape(-1,1))\n",
        "    pred_ts = rootnode.predict(x_test[feature].array.reshape(-1,1))\n",
        "    met = round(metric(y_train, pred_tr), 4)\n",
        "    if met > 0.5:\n",
        "        return [feature, met, rootnode, pred_tr, pred_ts]\n",
        "    else:\n",
        "        return [feature, met, None, [], []]"
      ],
      "metadata": {
        "trusted": true,
        "id": "Icepc0nsasje"
      },
      "outputs": [],
      "execution_count": null
    },
    {
      "cell_type": "code",
      "source": [
        "evaluate_one_feature('Flow Bytes/s')"
      ],
      "metadata": {
        "trusted": true,
        "id": "GQtJNVRGasje"
      },
      "outputs": [],
      "execution_count": null
    },
    {
      "cell_type": "code",
      "source": [
        "import os\n",
        "results = parallel(f=evaluate_one_feature,\n",
        "                  items=conts, n_workers=os.cpu_count(), threadpool=False, progress=True)"
      ],
      "metadata": {
        "trusted": true,
        "id": "pt8cd5KPasje"
      },
      "outputs": [],
      "execution_count": null
    },
    {
      "cell_type": "code",
      "source": [
        "#result_df = pd.DataFrame(data=results, columns=['feature', 'roc_auc_score', 'fitted_models', 'pred_tr']).sort_values(by='roc_auc_score', ascending=False)\n",
        "result_df = pd.DataFrame(data=results, columns=['feature', 'roc_auc_score', 'fitted_models', 'pred_tr', 'pred_ts']).sort_values(by='roc_auc_score', ascending=False)"
      ],
      "metadata": {
        "trusted": true,
        "id": "AAboAkNxasje"
      },
      "outputs": [],
      "execution_count": null
    },
    {
      "cell_type": "code",
      "source": [
        "result_df"
      ],
      "metadata": {
        "trusted": true,
        "id": "7H1loI-Qasje"
      },
      "outputs": [],
      "execution_count": null
    },
    {
      "cell_type": "code",
      "source": [
        "result_df[['feature', 'roc_auc_score']].head(48)"
      ],
      "metadata": {
        "trusted": true,
        "id": "AEKoWHbXasje"
      },
      "outputs": [],
      "execution_count": null
    },
    {
      "cell_type": "code",
      "source": [
        "ensemble_pred_tr = np.mean(np.vstack(useful_features['pred_tr'].to_numpy()), axis=0)"
      ],
      "metadata": {
        "trusted": true,
        "id": "F9DvLMxJasjf"
      },
      "outputs": [],
      "execution_count": null
    },
    {
      "cell_type": "code",
      "source": [
        "import numpy as np\n",
        "\n",
        "\n",
        "# create array\n",
        "x = np.array([1,2,3,4,5,1,2,1,1,1])\n",
        "print(\"Original array:\")\n",
        "print(x)\n",
        "\n",
        "print(\"Most frequent value in the above array:\")\n",
        "print(np.bincount(x).argmax())\n"
      ],
      "metadata": {
        "trusted": true,
        "id": "buKcr-1masjf"
      },
      "outputs": [],
      "execution_count": null
    },
    {
      "cell_type": "code",
      "source": [
        "# create array\n",
        "mtr = np.array([[1,2,3,4,5,1,2,1,1,1],\n",
        "       [3, 4, 4, 2,3,4,5, 4, 4, 3],\n",
        "       [2, 5, 3, 2,3,4,5, 5, 5, 3],\n",
        "       [0, 0, 1,2,3,4,5, 2, 2, 4]])\n",
        "print(\"Original array:\")\n",
        "print(mtr)\n",
        "l=len(mtr)\n",
        "print(l)\n",
        "np.bincount(x[0]).argmax()"
      ],
      "metadata": {
        "trusted": true,
        "id": "ydo-tHQXasjf"
      },
      "outputs": [],
      "execution_count": null
    },
    {
      "cell_type": "code",
      "source": [
        "np.bincount(mtr[0])"
      ],
      "metadata": {
        "trusted": true,
        "id": "277br8Dgasjf"
      },
      "outputs": [],
      "execution_count": null
    },
    {
      "cell_type": "code",
      "source": [
        "mn = np.bincount((mtr[0]),axis=0)\n",
        "mn"
      ],
      "metadata": {
        "trusted": true,
        "id": "proGiI4Jasjf"
      },
      "outputs": [],
      "execution_count": null
    },
    {
      "cell_type": "code",
      "source": [
        "print(\"Most frequent value in the above array:\")\n",
        "for i in range(l):\n",
        "    print(np.bincount(x[i]).argmax())"
      ],
      "metadata": {
        "trusted": true,
        "id": "wPv8mDtOasjf"
      },
      "outputs": [],
      "execution_count": null
    },
    {
      "cell_type": "code",
      "source": [
        "print(\"Most frequent value in the above array:\")\n",
        "for row in mt:\n",
        "    print(np.bincount(row.values).argmax())"
      ],
      "metadata": {
        "trusted": true,
        "id": "SM4YxQtoasjf"
      },
      "outputs": [],
      "execution_count": null
    },
    {
      "cell_type": "markdown",
      "source": [
        "from sklearn import tree\n",
        "bwdpkt_tree = result_df.loc[result_df.feature == 'Bwd Packets/s']['fitted_models'].values[0]\n",
        "tree.plot_tree(bwdpkt_tree)"
      ],
      "metadata": {
        "id": "sqk9VByfasjf"
      }
    },
    {
      "cell_type": "code",
      "source": [],
      "metadata": {
        "trusted": true,
        "id": "PZsO5pUZasjf"
      },
      "outputs": [],
      "execution_count": null
    },
    {
      "cell_type": "code",
      "source": [
        "#     return ens_pre_tr\n",
        "# ensemble_pred_tr=cal_ensemble_pred_tr(ar)\n",
        "# ensemble_pred_tr"
      ],
      "metadata": {
        "trusted": true,
        "id": "yJINC0SKasjc"
      },
      "outputs": [],
      "execution_count": null
    }
  ]
}